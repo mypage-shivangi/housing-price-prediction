{
 "cells": [
  {
   "cell_type": "code",
   "execution_count": 1,
   "id": "b4dd0a18",
   "metadata": {
    "_cell_guid": "b1076dfc-b9ad-4769-8c92-a6c4dae69d19",
    "_uuid": "8f2839f25d086af736a60e9eeb907d3b93b6e0e5",
    "execution": {
     "iopub.execute_input": "2025-06-22T09:22:53.895275Z",
     "iopub.status.busy": "2025-06-22T09:22:53.894968Z",
     "iopub.status.idle": "2025-06-22T09:22:55.515688Z",
     "shell.execute_reply": "2025-06-22T09:22:55.514859Z"
    },
    "papermill": {
     "duration": 1.628323,
     "end_time": "2025-06-22T09:22:55.517215",
     "exception": false,
     "start_time": "2025-06-22T09:22:53.888892",
     "status": "completed"
    },
    "tags": []
   },
   "outputs": [
    {
     "name": "stdout",
     "output_type": "stream",
     "text": [
      "/kaggle/input/test-csv/test.csv\n",
      "/kaggle/input/ames-housing-dataset/AmesHousing.csv\n"
     ]
    }
   ],
   "source": [
    "# This Python 3 environment comes with many helpful analytics libraries installed\n",
    "# It is defined by the kaggle/python Docker image: https://github.com/kaggle/docker-python\n",
    "# For example, here's several helpful packages to load\n",
    "\n",
    "import numpy as np # linear algebra\n",
    "import pandas as pd # data processing, CSV file I/O (e.g. pd.read_csv)\n",
    "\n",
    "# Input data files are available in the read-only \"../input/\" directory\n",
    "# For example, running this (by clicking run or pressing Shift+Enter) will list all files under the input directory\n",
    "\n",
    "import os\n",
    "for dirname, _, filenames in os.walk('/kaggle/input'):\n",
    "    for filename in filenames:\n",
    "        print(os.path.join(dirname, filename))\n",
    "\n",
    "# You can write up to 20GB to the current directory (/kaggle/working/) that gets preserved as output when you create a version using \"Save & Run All\" \n",
    "# You can also write temporary files to /kaggle/temp/, but they won't be saved outside of the current session"
   ]
  },
  {
   "cell_type": "code",
   "execution_count": 2,
   "id": "90f3f26c",
   "metadata": {
    "execution": {
     "iopub.execute_input": "2025-06-22T09:22:55.527006Z",
     "iopub.status.busy": "2025-06-22T09:22:55.526603Z",
     "iopub.status.idle": "2025-06-22T09:22:55.603384Z",
     "shell.execute_reply": "2025-06-22T09:22:55.602360Z"
    },
    "papermill": {
     "duration": 0.083187,
     "end_time": "2025-06-22T09:22:55.604875",
     "exception": false,
     "start_time": "2025-06-22T09:22:55.521688",
     "status": "completed"
    },
    "tags": []
   },
   "outputs": [
    {
     "name": "stdout",
     "output_type": "stream",
     "text": [
      "   Order        PID  MS SubClass MS Zoning  Lot Frontage  Lot Area Street  \\\n",
      "0      1  526301100           20        RL         141.0     31770   Pave   \n",
      "1      2  526350040           20        RH          80.0     11622   Pave   \n",
      "2      3  526351010           20        RL          81.0     14267   Pave   \n",
      "3      4  526353030           20        RL          93.0     11160   Pave   \n",
      "4      5  527105010           60        RL          74.0     13830   Pave   \n",
      "\n",
      "  Alley Lot Shape Land Contour  ... Pool Area Pool QC  Fence Misc Feature  \\\n",
      "0   NaN       IR1          Lvl  ...         0     NaN    NaN          NaN   \n",
      "1   NaN       Reg          Lvl  ...         0     NaN  MnPrv          NaN   \n",
      "2   NaN       IR1          Lvl  ...         0     NaN    NaN         Gar2   \n",
      "3   NaN       Reg          Lvl  ...         0     NaN    NaN          NaN   \n",
      "4   NaN       IR1          Lvl  ...         0     NaN  MnPrv          NaN   \n",
      "\n",
      "  Misc Val Mo Sold Yr Sold Sale Type  Sale Condition  SalePrice  \n",
      "0        0       5    2010       WD           Normal     215000  \n",
      "1        0       6    2010       WD           Normal     105000  \n",
      "2    12500       6    2010       WD           Normal     172000  \n",
      "3        0       4    2010       WD           Normal     244000  \n",
      "4        0       3    2010       WD           Normal     189900  \n",
      "\n",
      "[5 rows x 82 columns]\n"
     ]
    }
   ],
   "source": [
    "df=pd.read_csv('/kaggle/input/ames-housing-dataset/AmesHousing.csv')\n",
    "print(df.head())"
   ]
  },
  {
   "cell_type": "code",
   "execution_count": 3,
   "id": "cf57d8ce",
   "metadata": {
    "execution": {
     "iopub.execute_input": "2025-06-22T09:22:55.614546Z",
     "iopub.status.busy": "2025-06-22T09:22:55.614284Z",
     "iopub.status.idle": "2025-06-22T09:22:55.626125Z",
     "shell.execute_reply": "2025-06-22T09:22:55.625330Z"
    },
    "papermill": {
     "duration": 0.018143,
     "end_time": "2025-06-22T09:22:55.627320",
     "exception": false,
     "start_time": "2025-06-22T09:22:55.609177",
     "status": "completed"
    },
    "tags": []
   },
   "outputs": [
    {
     "name": "stdout",
     "output_type": "stream",
     "text": [
      "['Lot Frontage', 'Alley', 'Mas Vnr Type', 'Mas Vnr Area', 'Bsmt Qual', 'Bsmt Cond', 'Bsmt Exposure', 'BsmtFin Type 1', 'BsmtFin SF 1', 'BsmtFin Type 2', 'BsmtFin SF 2', 'Bsmt Unf SF', 'Total Bsmt SF', 'Electrical', 'Bsmt Full Bath', 'Bsmt Half Bath', 'Fireplace Qu', 'Garage Type', 'Garage Yr Blt', 'Garage Finish', 'Garage Cars', 'Garage Area', 'Garage Qual', 'Garage Cond', 'Pool QC', 'Fence', 'Misc Feature']\n"
     ]
    }
   ],
   "source": [
    "missing_cols = df.columns[df.isnull().any()]\n",
    "print(missing_cols.tolist())\n"
   ]
  },
  {
   "cell_type": "code",
   "execution_count": 4,
   "id": "7a5b296f",
   "metadata": {
    "execution": {
     "iopub.execute_input": "2025-06-22T09:22:55.637059Z",
     "iopub.status.busy": "2025-06-22T09:22:55.636793Z",
     "iopub.status.idle": "2025-06-22T09:22:55.643270Z",
     "shell.execute_reply": "2025-06-22T09:22:55.642656Z"
    },
    "papermill": {
     "duration": 0.012786,
     "end_time": "2025-06-22T09:22:55.644434",
     "exception": false,
     "start_time": "2025-06-22T09:22:55.631648",
     "status": "completed"
    },
    "tags": []
   },
   "outputs": [],
   "source": [
    "def handle_missing_values(df):\n",
    "    \"\"\"\n",
    "    Handles missing values in the housing dataset:\n",
    "    - Fills 'None' for categorical features indicating absence\n",
    "    - Fills 0 for numeric features where missing implies absence\n",
    "    - Uses median or mode for genuine missing values\n",
    "    - Skips columns not present in the input DataFrame\n",
    "    \"\"\"\n",
    "    # 1. Categorical features where NA → 'None'\n",
    "    fill_none_cols = [\n",
    "        'Mas Vnr Type', 'Bsmt Qual', 'Bsmt Cond', 'Bsmt Exposure',\n",
    "        'BsmtFin Type 1', 'BsmtFin Type 2', 'Fireplace Qu',\n",
    "        'Garage Type', 'Garage Finish', 'Garage Qual', 'Garage Cond',\n",
    "        'Fence', 'Pool QC', 'Misc Feature', 'Alley'\n",
    "    ]\n",
    "    for col in fill_none_cols:\n",
    "        if col in df.columns:\n",
    "            df[col] = df[col].fillna('None')\n",
    "\n",
    "    # 2. Numeric features where NA → 0\n",
    "    fill_zero_cols = [\n",
    "        'Mas Vnr Area', 'BsmtFin SF 1', 'BsmtFin SF 2', 'Bsmt Unf SF',\n",
    "        'Total Bsmt SF', 'Bsmt Full Bath', 'Bsmt Half Bath',\n",
    "        'Garage Cars', 'Garage Area'\n",
    "    ]\n",
    "    for col in fill_zero_cols:\n",
    "        if col in df.columns:\n",
    "            df[col] = df[col].fillna(0)\n",
    "\n",
    "    # 3. Median fill for continuous numeric variables\n",
    "    if 'Lot Frontage' in df.columns:\n",
    "        df['Lot Frontage'] = df['Lot Frontage'].fillna(df['Lot Frontage'].median())\n",
    "    if 'Garage Yr Blt' in df.columns:\n",
    "        df['Garage Yr Blt'] = df['Garage Yr Blt'].fillna(df['Garage Yr Blt'].median())\n",
    "\n",
    "    # 4. Mode fill for categorical variables\n",
    "    if 'Electrical' in df.columns:\n",
    "        df['Electrical'] = df['Electrical'].fillna(df['Electrical'].mode()[0])\n",
    "\n",
    "    return df\n"
   ]
  },
  {
   "cell_type": "code",
   "execution_count": 5,
   "id": "5848ba3a",
   "metadata": {
    "execution": {
     "iopub.execute_input": "2025-06-22T09:22:55.653767Z",
     "iopub.status.busy": "2025-06-22T09:22:55.653489Z",
     "iopub.status.idle": "2025-06-22T09:22:55.696113Z",
     "shell.execute_reply": "2025-06-22T09:22:55.695292Z"
    },
    "papermill": {
     "duration": 0.048887,
     "end_time": "2025-06-22T09:22:55.697421",
     "exception": false,
     "start_time": "2025-06-22T09:22:55.648534",
     "status": "completed"
    },
    "tags": []
   },
   "outputs": [
    {
     "data": {
      "text/html": [
       "<div>\n",
       "<style scoped>\n",
       "    .dataframe tbody tr th:only-of-type {\n",
       "        vertical-align: middle;\n",
       "    }\n",
       "\n",
       "    .dataframe tbody tr th {\n",
       "        vertical-align: top;\n",
       "    }\n",
       "\n",
       "    .dataframe thead th {\n",
       "        text-align: right;\n",
       "    }\n",
       "</style>\n",
       "<table border=\"1\" class=\"dataframe\">\n",
       "  <thead>\n",
       "    <tr style=\"text-align: right;\">\n",
       "      <th></th>\n",
       "      <th>Order</th>\n",
       "      <th>PID</th>\n",
       "      <th>MS SubClass</th>\n",
       "      <th>MS Zoning</th>\n",
       "      <th>Lot Frontage</th>\n",
       "      <th>Lot Area</th>\n",
       "      <th>Street</th>\n",
       "      <th>Alley</th>\n",
       "      <th>Lot Shape</th>\n",
       "      <th>Land Contour</th>\n",
       "      <th>...</th>\n",
       "      <th>Pool Area</th>\n",
       "      <th>Pool QC</th>\n",
       "      <th>Fence</th>\n",
       "      <th>Misc Feature</th>\n",
       "      <th>Misc Val</th>\n",
       "      <th>Mo Sold</th>\n",
       "      <th>Yr Sold</th>\n",
       "      <th>Sale Type</th>\n",
       "      <th>Sale Condition</th>\n",
       "      <th>SalePrice</th>\n",
       "    </tr>\n",
       "  </thead>\n",
       "  <tbody>\n",
       "    <tr>\n",
       "      <th>0</th>\n",
       "      <td>1</td>\n",
       "      <td>526301100</td>\n",
       "      <td>20</td>\n",
       "      <td>RL</td>\n",
       "      <td>141.0</td>\n",
       "      <td>31770</td>\n",
       "      <td>Pave</td>\n",
       "      <td>None</td>\n",
       "      <td>IR1</td>\n",
       "      <td>Lvl</td>\n",
       "      <td>...</td>\n",
       "      <td>0</td>\n",
       "      <td>None</td>\n",
       "      <td>None</td>\n",
       "      <td>None</td>\n",
       "      <td>0</td>\n",
       "      <td>5</td>\n",
       "      <td>2010</td>\n",
       "      <td>WD</td>\n",
       "      <td>Normal</td>\n",
       "      <td>215000</td>\n",
       "    </tr>\n",
       "    <tr>\n",
       "      <th>1</th>\n",
       "      <td>2</td>\n",
       "      <td>526350040</td>\n",
       "      <td>20</td>\n",
       "      <td>RH</td>\n",
       "      <td>80.0</td>\n",
       "      <td>11622</td>\n",
       "      <td>Pave</td>\n",
       "      <td>None</td>\n",
       "      <td>Reg</td>\n",
       "      <td>Lvl</td>\n",
       "      <td>...</td>\n",
       "      <td>0</td>\n",
       "      <td>None</td>\n",
       "      <td>MnPrv</td>\n",
       "      <td>None</td>\n",
       "      <td>0</td>\n",
       "      <td>6</td>\n",
       "      <td>2010</td>\n",
       "      <td>WD</td>\n",
       "      <td>Normal</td>\n",
       "      <td>105000</td>\n",
       "    </tr>\n",
       "    <tr>\n",
       "      <th>2</th>\n",
       "      <td>3</td>\n",
       "      <td>526351010</td>\n",
       "      <td>20</td>\n",
       "      <td>RL</td>\n",
       "      <td>81.0</td>\n",
       "      <td>14267</td>\n",
       "      <td>Pave</td>\n",
       "      <td>None</td>\n",
       "      <td>IR1</td>\n",
       "      <td>Lvl</td>\n",
       "      <td>...</td>\n",
       "      <td>0</td>\n",
       "      <td>None</td>\n",
       "      <td>None</td>\n",
       "      <td>Gar2</td>\n",
       "      <td>12500</td>\n",
       "      <td>6</td>\n",
       "      <td>2010</td>\n",
       "      <td>WD</td>\n",
       "      <td>Normal</td>\n",
       "      <td>172000</td>\n",
       "    </tr>\n",
       "    <tr>\n",
       "      <th>3</th>\n",
       "      <td>4</td>\n",
       "      <td>526353030</td>\n",
       "      <td>20</td>\n",
       "      <td>RL</td>\n",
       "      <td>93.0</td>\n",
       "      <td>11160</td>\n",
       "      <td>Pave</td>\n",
       "      <td>None</td>\n",
       "      <td>Reg</td>\n",
       "      <td>Lvl</td>\n",
       "      <td>...</td>\n",
       "      <td>0</td>\n",
       "      <td>None</td>\n",
       "      <td>None</td>\n",
       "      <td>None</td>\n",
       "      <td>0</td>\n",
       "      <td>4</td>\n",
       "      <td>2010</td>\n",
       "      <td>WD</td>\n",
       "      <td>Normal</td>\n",
       "      <td>244000</td>\n",
       "    </tr>\n",
       "    <tr>\n",
       "      <th>4</th>\n",
       "      <td>5</td>\n",
       "      <td>527105010</td>\n",
       "      <td>60</td>\n",
       "      <td>RL</td>\n",
       "      <td>74.0</td>\n",
       "      <td>13830</td>\n",
       "      <td>Pave</td>\n",
       "      <td>None</td>\n",
       "      <td>IR1</td>\n",
       "      <td>Lvl</td>\n",
       "      <td>...</td>\n",
       "      <td>0</td>\n",
       "      <td>None</td>\n",
       "      <td>MnPrv</td>\n",
       "      <td>None</td>\n",
       "      <td>0</td>\n",
       "      <td>3</td>\n",
       "      <td>2010</td>\n",
       "      <td>WD</td>\n",
       "      <td>Normal</td>\n",
       "      <td>189900</td>\n",
       "    </tr>\n",
       "    <tr>\n",
       "      <th>...</th>\n",
       "      <td>...</td>\n",
       "      <td>...</td>\n",
       "      <td>...</td>\n",
       "      <td>...</td>\n",
       "      <td>...</td>\n",
       "      <td>...</td>\n",
       "      <td>...</td>\n",
       "      <td>...</td>\n",
       "      <td>...</td>\n",
       "      <td>...</td>\n",
       "      <td>...</td>\n",
       "      <td>...</td>\n",
       "      <td>...</td>\n",
       "      <td>...</td>\n",
       "      <td>...</td>\n",
       "      <td>...</td>\n",
       "      <td>...</td>\n",
       "      <td>...</td>\n",
       "      <td>...</td>\n",
       "      <td>...</td>\n",
       "      <td>...</td>\n",
       "    </tr>\n",
       "    <tr>\n",
       "      <th>2925</th>\n",
       "      <td>2926</td>\n",
       "      <td>923275080</td>\n",
       "      <td>80</td>\n",
       "      <td>RL</td>\n",
       "      <td>37.0</td>\n",
       "      <td>7937</td>\n",
       "      <td>Pave</td>\n",
       "      <td>None</td>\n",
       "      <td>IR1</td>\n",
       "      <td>Lvl</td>\n",
       "      <td>...</td>\n",
       "      <td>0</td>\n",
       "      <td>None</td>\n",
       "      <td>GdPrv</td>\n",
       "      <td>None</td>\n",
       "      <td>0</td>\n",
       "      <td>3</td>\n",
       "      <td>2006</td>\n",
       "      <td>WD</td>\n",
       "      <td>Normal</td>\n",
       "      <td>142500</td>\n",
       "    </tr>\n",
       "    <tr>\n",
       "      <th>2926</th>\n",
       "      <td>2927</td>\n",
       "      <td>923276100</td>\n",
       "      <td>20</td>\n",
       "      <td>RL</td>\n",
       "      <td>68.0</td>\n",
       "      <td>8885</td>\n",
       "      <td>Pave</td>\n",
       "      <td>None</td>\n",
       "      <td>IR1</td>\n",
       "      <td>Low</td>\n",
       "      <td>...</td>\n",
       "      <td>0</td>\n",
       "      <td>None</td>\n",
       "      <td>MnPrv</td>\n",
       "      <td>None</td>\n",
       "      <td>0</td>\n",
       "      <td>6</td>\n",
       "      <td>2006</td>\n",
       "      <td>WD</td>\n",
       "      <td>Normal</td>\n",
       "      <td>131000</td>\n",
       "    </tr>\n",
       "    <tr>\n",
       "      <th>2927</th>\n",
       "      <td>2928</td>\n",
       "      <td>923400125</td>\n",
       "      <td>85</td>\n",
       "      <td>RL</td>\n",
       "      <td>62.0</td>\n",
       "      <td>10441</td>\n",
       "      <td>Pave</td>\n",
       "      <td>None</td>\n",
       "      <td>Reg</td>\n",
       "      <td>Lvl</td>\n",
       "      <td>...</td>\n",
       "      <td>0</td>\n",
       "      <td>None</td>\n",
       "      <td>MnPrv</td>\n",
       "      <td>Shed</td>\n",
       "      <td>700</td>\n",
       "      <td>7</td>\n",
       "      <td>2006</td>\n",
       "      <td>WD</td>\n",
       "      <td>Normal</td>\n",
       "      <td>132000</td>\n",
       "    </tr>\n",
       "    <tr>\n",
       "      <th>2928</th>\n",
       "      <td>2929</td>\n",
       "      <td>924100070</td>\n",
       "      <td>20</td>\n",
       "      <td>RL</td>\n",
       "      <td>77.0</td>\n",
       "      <td>10010</td>\n",
       "      <td>Pave</td>\n",
       "      <td>None</td>\n",
       "      <td>Reg</td>\n",
       "      <td>Lvl</td>\n",
       "      <td>...</td>\n",
       "      <td>0</td>\n",
       "      <td>None</td>\n",
       "      <td>None</td>\n",
       "      <td>None</td>\n",
       "      <td>0</td>\n",
       "      <td>4</td>\n",
       "      <td>2006</td>\n",
       "      <td>WD</td>\n",
       "      <td>Normal</td>\n",
       "      <td>170000</td>\n",
       "    </tr>\n",
       "    <tr>\n",
       "      <th>2929</th>\n",
       "      <td>2930</td>\n",
       "      <td>924151050</td>\n",
       "      <td>60</td>\n",
       "      <td>RL</td>\n",
       "      <td>74.0</td>\n",
       "      <td>9627</td>\n",
       "      <td>Pave</td>\n",
       "      <td>None</td>\n",
       "      <td>Reg</td>\n",
       "      <td>Lvl</td>\n",
       "      <td>...</td>\n",
       "      <td>0</td>\n",
       "      <td>None</td>\n",
       "      <td>None</td>\n",
       "      <td>None</td>\n",
       "      <td>0</td>\n",
       "      <td>11</td>\n",
       "      <td>2006</td>\n",
       "      <td>WD</td>\n",
       "      <td>Normal</td>\n",
       "      <td>188000</td>\n",
       "    </tr>\n",
       "  </tbody>\n",
       "</table>\n",
       "<p>2930 rows × 82 columns</p>\n",
       "</div>"
      ],
      "text/plain": [
       "      Order        PID  MS SubClass MS Zoning  Lot Frontage  Lot Area Street  \\\n",
       "0         1  526301100           20        RL         141.0     31770   Pave   \n",
       "1         2  526350040           20        RH          80.0     11622   Pave   \n",
       "2         3  526351010           20        RL          81.0     14267   Pave   \n",
       "3         4  526353030           20        RL          93.0     11160   Pave   \n",
       "4         5  527105010           60        RL          74.0     13830   Pave   \n",
       "...     ...        ...          ...       ...           ...       ...    ...   \n",
       "2925   2926  923275080           80        RL          37.0      7937   Pave   \n",
       "2926   2927  923276100           20        RL          68.0      8885   Pave   \n",
       "2927   2928  923400125           85        RL          62.0     10441   Pave   \n",
       "2928   2929  924100070           20        RL          77.0     10010   Pave   \n",
       "2929   2930  924151050           60        RL          74.0      9627   Pave   \n",
       "\n",
       "     Alley Lot Shape Land Contour  ... Pool Area Pool QC  Fence Misc Feature  \\\n",
       "0     None       IR1          Lvl  ...         0    None   None         None   \n",
       "1     None       Reg          Lvl  ...         0    None  MnPrv         None   \n",
       "2     None       IR1          Lvl  ...         0    None   None         Gar2   \n",
       "3     None       Reg          Lvl  ...         0    None   None         None   \n",
       "4     None       IR1          Lvl  ...         0    None  MnPrv         None   \n",
       "...    ...       ...          ...  ...       ...     ...    ...          ...   \n",
       "2925  None       IR1          Lvl  ...         0    None  GdPrv         None   \n",
       "2926  None       IR1          Low  ...         0    None  MnPrv         None   \n",
       "2927  None       Reg          Lvl  ...         0    None  MnPrv         Shed   \n",
       "2928  None       Reg          Lvl  ...         0    None   None         None   \n",
       "2929  None       Reg          Lvl  ...         0    None   None         None   \n",
       "\n",
       "     Misc Val Mo Sold Yr Sold Sale Type  Sale Condition  SalePrice  \n",
       "0           0       5    2010       WD           Normal     215000  \n",
       "1           0       6    2010       WD           Normal     105000  \n",
       "2       12500       6    2010       WD           Normal     172000  \n",
       "3           0       4    2010       WD           Normal     244000  \n",
       "4           0       3    2010       WD           Normal     189900  \n",
       "...       ...     ...     ...       ...             ...        ...  \n",
       "2925        0       3    2006       WD           Normal     142500  \n",
       "2926        0       6    2006       WD           Normal     131000  \n",
       "2927      700       7    2006       WD           Normal     132000  \n",
       "2928        0       4    2006       WD           Normal     170000  \n",
       "2929        0      11    2006       WD           Normal     188000  \n",
       "\n",
       "[2930 rows x 82 columns]"
      ]
     },
     "execution_count": 5,
     "metadata": {},
     "output_type": "execute_result"
    }
   ],
   "source": [
    "handle_missing_values(df)"
   ]
  },
  {
   "cell_type": "code",
   "execution_count": 6,
   "id": "c6a8910f",
   "metadata": {
    "execution": {
     "iopub.execute_input": "2025-06-22T09:22:55.707566Z",
     "iopub.status.busy": "2025-06-22T09:22:55.707319Z",
     "iopub.status.idle": "2025-06-22T09:22:55.722493Z",
     "shell.execute_reply": "2025-06-22T09:22:55.721833Z"
    },
    "papermill": {
     "duration": 0.021485,
     "end_time": "2025-06-22T09:22:55.723695",
     "exception": false,
     "start_time": "2025-06-22T09:22:55.702210",
     "status": "completed"
    },
    "tags": []
   },
   "outputs": [
    {
     "data": {
      "text/plain": [
       "Order             0\n",
       "Garage Finish     0\n",
       "Garage Type       0\n",
       "Fireplace Qu      0\n",
       "Fireplaces        0\n",
       "Functional        0\n",
       "TotRms AbvGrd     0\n",
       "Kitchen Qual      0\n",
       "Kitchen AbvGr     0\n",
       "Bedroom AbvGr     0\n",
       "Half Bath         0\n",
       "Full Bath         0\n",
       "Bsmt Half Bath    0\n",
       "Bsmt Full Bath    0\n",
       "Gr Liv Area       0\n",
       "dtype: int64"
      ]
     },
     "execution_count": 6,
     "metadata": {},
     "output_type": "execute_result"
    }
   ],
   "source": [
    "df.isnull().sum().sort_values(ascending=False).head(15)"
   ]
  },
  {
   "cell_type": "code",
   "execution_count": 7,
   "id": "04efe532",
   "metadata": {
    "execution": {
     "iopub.execute_input": "2025-06-22T09:22:55.733910Z",
     "iopub.status.busy": "2025-06-22T09:22:55.733650Z",
     "iopub.status.idle": "2025-06-22T09:22:55.739857Z",
     "shell.execute_reply": "2025-06-22T09:22:55.739181Z"
    },
    "papermill": {
     "duration": 0.012667,
     "end_time": "2025-06-22T09:22:55.741092",
     "exception": false,
     "start_time": "2025-06-22T09:22:55.728425",
     "status": "completed"
    },
    "tags": []
   },
   "outputs": [],
   "source": [
    "def encode_features(df):\n",
    "    \"\"\"\n",
    "    Encodes categorical variables:\n",
    "    - Applies ordinal mapping to quality-related features\n",
    "    - Applies one-hot encoding to nominal categorical features\n",
    "    \"\"\"\n",
    "    # 1. Ordinal features with logical ranks\n",
    "    quality_map = {'None': 0, 'Po': 1, 'Fa': 2, 'TA': 3, 'Gd': 4, 'Ex': 5}\n",
    "    ordinal_cols = [\n",
    "        'Exter Qual', 'Exter Cond', 'Bsmt Qual', 'Bsmt Cond',\n",
    "        'Heating QC', 'Kitchen Qual', 'Fireplace Qu',\n",
    "        'Garage Qual', 'Garage Cond', 'Pool QC'\n",
    "    ]\n",
    "    for col in ordinal_cols:\n",
    "        if col in df.columns:\n",
    "            df[col] = df[col].map(quality_map)\n",
    "\n",
    "    # 2. One-hot encoding for nominal features\n",
    "    nominal_cols = [\n",
    "        'MS Zoning', 'Street', 'Neighborhood', 'Condition 1', 'Condition 2',\n",
    "        'Bldg Type', 'House Style', 'Roof Style', 'Roof Matl',\n",
    "        'Exterior 1st', 'Exterior 2nd', 'Heating', 'Electrical',\n",
    "        'Functional', 'Garage Type', 'Garage Finish', 'Paved Drive',\n",
    "        'Sale Type', 'Sale Condition', 'Foundation', 'Lot Config',\n",
    "        'Land Slope', 'Land Contour', 'Lot Shape', 'Misc Feature',\n",
    "        'Fence', 'Alley', 'Mas Vnr Type', 'Bsmt Exposure',\n",
    "        'BsmtFin Type 1', 'BsmtFin Type 2', 'Central Air', 'Utilities'\n",
    "    ]\n",
    "    df = pd.get_dummies(df, columns=[col for col in nominal_cols if col in df.columns], drop_first=True)\n",
    "\n",
    "    return df"
   ]
  },
  {
   "cell_type": "code",
   "execution_count": 8,
   "id": "bd81a5ad",
   "metadata": {
    "execution": {
     "iopub.execute_input": "2025-06-22T09:22:55.751032Z",
     "iopub.status.busy": "2025-06-22T09:22:55.750781Z",
     "iopub.status.idle": "2025-06-22T09:22:55.797478Z",
     "shell.execute_reply": "2025-06-22T09:22:55.796772Z"
    },
    "papermill": {
     "duration": 0.053532,
     "end_time": "2025-06-22T09:22:55.799141",
     "exception": false,
     "start_time": "2025-06-22T09:22:55.745609",
     "status": "completed"
    },
    "tags": []
   },
   "outputs": [],
   "source": [
    "df = encode_features(df)"
   ]
  },
  {
   "cell_type": "code",
   "execution_count": 9,
   "id": "d99e1e42",
   "metadata": {
    "execution": {
     "iopub.execute_input": "2025-06-22T09:22:55.809561Z",
     "iopub.status.busy": "2025-06-22T09:22:55.809313Z",
     "iopub.status.idle": "2025-06-22T09:22:55.817180Z",
     "shell.execute_reply": "2025-06-22T09:22:55.816449Z"
    },
    "papermill": {
     "duration": 0.014351,
     "end_time": "2025-06-22T09:22:55.818425",
     "exception": false,
     "start_time": "2025-06-22T09:22:55.804074",
     "status": "completed"
    },
    "tags": []
   },
   "outputs": [
    {
     "name": "stdout",
     "output_type": "stream",
     "text": [
      "Index([], dtype='object')\n",
      "0\n"
     ]
    }
   ],
   "source": [
    "print(df.select_dtypes(include='object').columns)  # Should be empty\n",
    "print(df.isnull().sum().sum()) "
   ]
  },
  {
   "cell_type": "code",
   "execution_count": 10,
   "id": "2b9042eb",
   "metadata": {
    "execution": {
     "iopub.execute_input": "2025-06-22T09:22:55.828555Z",
     "iopub.status.busy": "2025-06-22T09:22:55.828323Z",
     "iopub.status.idle": "2025-06-22T09:22:57.805724Z",
     "shell.execute_reply": "2025-06-22T09:22:57.804607Z"
    },
    "papermill": {
     "duration": 1.983973,
     "end_time": "2025-06-22T09:22:57.807168",
     "exception": false,
     "start_time": "2025-06-22T09:22:55.823195",
     "status": "completed"
    },
    "tags": []
   },
   "outputs": [
    {
     "name": "stdout",
     "output_type": "stream",
     "text": [
      "True\n"
     ]
    }
   ],
   "source": [
    "import seaborn as sns\n",
    "import matplotlib.pyplot as plt\n",
    "corr_matrix = df.corr(numeric_only = True)\n",
    "print('SalePrice' in corr_matrix.columns)"
   ]
  },
  {
   "cell_type": "code",
   "execution_count": 11,
   "id": "1e2fbbab",
   "metadata": {
    "execution": {
     "iopub.execute_input": "2025-06-22T09:22:57.817886Z",
     "iopub.status.busy": "2025-06-22T09:22:57.817490Z",
     "iopub.status.idle": "2025-06-22T09:22:57.823469Z",
     "shell.execute_reply": "2025-06-22T09:22:57.822653Z"
    },
    "papermill": {
     "duration": 0.012706,
     "end_time": "2025-06-22T09:22:57.824797",
     "exception": false,
     "start_time": "2025-06-22T09:22:57.812091",
     "status": "completed"
    },
    "tags": []
   },
   "outputs": [
    {
     "name": "stdout",
     "output_type": "stream",
     "text": [
      "['SalePrice', 'Overall Qual', 'Gr Liv Area', 'Exter Qual', 'Kitchen Qual', 'Garage Cars', 'Garage Area', 'Total Bsmt SF', '1st Flr SF', 'Bsmt Qual', 'Year Built', 'Full Bath', 'Fireplace Qu', 'Year Remod/Add', 'Foundation_PConc', 'Garage Yr Blt', 'Mas Vnr Area', 'TotRms AbvGrd', 'Fireplaces', 'BsmtFin Type 1_GLQ']\n"
     ]
    }
   ],
   "source": [
    "top_features = corr_matrix['SalePrice'].abs().sort_values(ascending=False).head(20).index.tolist()\n",
    "print(top_features)"
   ]
  },
  {
   "cell_type": "code",
   "execution_count": 12,
   "id": "7cd968cb",
   "metadata": {
    "execution": {
     "iopub.execute_input": "2025-06-22T09:22:57.835491Z",
     "iopub.status.busy": "2025-06-22T09:22:57.835243Z",
     "iopub.status.idle": "2025-06-22T09:22:57.839215Z",
     "shell.execute_reply": "2025-06-22T09:22:57.838542Z"
    },
    "papermill": {
     "duration": 0.01078,
     "end_time": "2025-06-22T09:22:57.840351",
     "exception": false,
     "start_time": "2025-06-22T09:22:57.829571",
     "status": "completed"
    },
    "tags": []
   },
   "outputs": [],
   "source": [
    "final_features = ['Overall Qual', 'Gr Liv Area', 'Year Remod/Add', 'Year Built', 'Fireplaces', 'Total Bsmt SF', '1st Flr SF', 'BsmtFin Type 1_GLQ', 'Garage Cars', 'Garage Area', 'Full Bath', 'Garage Yr Blt', 'TotRms AbvGrd', 'Mas Vnr Area', 'Foundation_PConc']"
   ]
  },
  {
   "cell_type": "code",
   "execution_count": 13,
   "id": "44c07eb7",
   "metadata": {
    "execution": {
     "iopub.execute_input": "2025-06-22T09:22:57.850521Z",
     "iopub.status.busy": "2025-06-22T09:22:57.850292Z",
     "iopub.status.idle": "2025-06-22T09:23:05.508417Z",
     "shell.execute_reply": "2025-06-22T09:23:05.507621Z"
    },
    "papermill": {
     "duration": 7.665039,
     "end_time": "2025-06-22T09:23:05.510166",
     "exception": false,
     "start_time": "2025-06-22T09:22:57.845127",
     "status": "completed"
    },
    "tags": []
   },
   "outputs": [],
   "source": [
    "import numpy as np\n",
    "import pandas as pd\n",
    "from xgboost import XGBRegressor\n",
    "from sklearn.model_selection import train_test_split\n",
    "from sklearn.linear_model import LassoCV\n",
    "from sklearn.metrics import mean_squared_error\n",
    "import matplotlib.pyplot as plt\n",
    "import shap"
   ]
  },
  {
   "cell_type": "code",
   "execution_count": 14,
   "id": "6671269a",
   "metadata": {
    "execution": {
     "iopub.execute_input": "2025-06-22T09:23:05.521577Z",
     "iopub.status.busy": "2025-06-22T09:23:05.521157Z",
     "iopub.status.idle": "2025-06-22T09:23:06.430741Z",
     "shell.execute_reply": "2025-06-22T09:23:06.429786Z"
    },
    "papermill": {
     "duration": 0.917179,
     "end_time": "2025-06-22T09:23:06.432359",
     "exception": false,
     "start_time": "2025-06-22T09:23:05.515180",
     "status": "completed"
    },
    "tags": []
   },
   "outputs": [
    {
     "name": "stdout",
     "output_type": "stream",
     "text": [
      "Validation RMSE: 25381.81\n"
     ]
    }
   ],
   "source": [
    "# Drop rows with missing target\n",
    "df_encoded = encode_features(df)\n",
    "df_encoded = df_encoded[df_encoded['SalePrice'].notnull()]\n",
    "\n",
    "#X = df_encoded[final_features]\n",
    "all_features = [col for col in df_encoded.columns if col != 'SalePrice']\n",
    "X = df_encoded[all_features]\n",
    "y = np.log1p(df_encoded['SalePrice'])\n",
    "\n",
    "# --------------------------------------\n",
    "# 4. 📊 Train-validation split (80/20)\n",
    "# --------------------------------------\n",
    "X_train, X_val, y_train, y_val = train_test_split(X, y, test_size=0.2, random_state=42)\n",
    "\n",
    "# --------------------------------------\n",
    "# 5. 🧠 Train XGBoost\n",
    "# --------------------------------------\n",
    "xgb_final = XGBRegressor(\n",
    "    n_estimators=388,\n",
    "    max_depth=4,\n",
    "    learning_rate=0.02,\n",
    "    subsample=0.993,\n",
    "    colsample_bytree=0.8,\n",
    "    gamma=0.05,\n",
    "    reg_alpha=1.0,\n",
    "    reg_lambda=0.07,\n",
    "    random_state=42\n",
    ")\n",
    "xgb_final.fit(X_train, y_train)\n",
    "\n",
    "# --------------------------------------\n",
    "# 6. 📈 Evaluate\n",
    "# --------------------------------------\n",
    "y_pred_log = xgb_final.predict(X_val)\n",
    "y_pred = np.expm1(y_pred_log)\n",
    "y_true = np.expm1(y_val)\n",
    "\n",
    "rmse = np.sqrt(mean_squared_error(y_true, y_pred))\n",
    "print(f\"Validation RMSE: {rmse:.2f}\")"
   ]
  },
  {
   "cell_type": "code",
   "execution_count": 15,
   "id": "4dd3c66d",
   "metadata": {
    "execution": {
     "iopub.execute_input": "2025-06-22T09:23:06.449379Z",
     "iopub.status.busy": "2025-06-22T09:23:06.448552Z",
     "iopub.status.idle": "2025-06-22T09:23:09.118893Z",
     "shell.execute_reply": "2025-06-22T09:23:09.118065Z"
    },
    "papermill": {
     "duration": 2.681023,
     "end_time": "2025-06-22T09:23:09.121765",
     "exception": false,
     "start_time": "2025-06-22T09:23:06.440742",
     "status": "completed"
    },
    "tags": []
   },
   "outputs": [
    {
     "data": {
      "image/png": "[encoded data removed]",
      "text/plain": [
       "<Figure size 800x950 with 1 Axes>"
      ]
     },
     "metadata": {},
     "output_type": "display_data"
    }
   ],
   "source": [
    "import shap\n",
    "\n",
    "# Use TreeExplainer for XGBoost\n",
    "explainer = shap.Explainer(xgb_final)\n",
    "\n",
    "# Apply to validation or full feature matrix\n",
    "shap_values = explainer(X_train)  # or use X if you're analyzing full data\n",
    "\n",
    "# Global feature importance plot\n",
    "shap.summary_plot(shap_values,corr_matrix['SalePrice'].abs().sort_values(ascending=False).index.tolist() , plot_type=\"dot\")\n"
   ]
  },
  {
   "cell_type": "code",
   "execution_count": 16,
   "id": "abe890ae",
   "metadata": {
    "execution": {
     "iopub.execute_input": "2025-06-22T09:23:09.137518Z",
     "iopub.status.busy": "2025-06-22T09:23:09.136896Z",
     "iopub.status.idle": "2025-06-22T09:23:09.144514Z",
     "shell.execute_reply": "2025-06-22T09:23:09.143481Z"
    },
    "papermill": {
     "duration": 0.016862,
     "end_time": "2025-06-22T09:23:09.146002",
     "exception": false,
     "start_time": "2025-06-22T09:23:09.129140",
     "status": "completed"
    },
    "tags": []
   },
   "outputs": [
    {
     "name": "stdout",
     "output_type": "stream",
     "text": [
      "['Overall Qual', 'Gr Liv Area', 'Year Built', 'Year Remod/Add', 'BsmtFin SF 1', 'Total Bsmt SF', '1st Flr SF', 'Fireplaces', 'Overall Cond', 'Lot Area', 'Garage Cars', 'Central Air_Y', 'Garage Yr Blt', 'Garage Area', 'Bsmt Full Bath', 'Sale Condition_Normal', 'MS Zoning_RM', 'Screen Porch', 'MS Zoning_RL', '2nd Flr SF', 'Wood Deck SF', 'Paved Drive_Y', 'Full Bath', 'Open Porch SF', 'Bsmt Exposure_Gd', 'BsmtFin Type 1_GLQ', 'PID', 'Neighborhood_Crawfor', 'Condition 1_Norm', 'Functional_Typ', 'Order', 'Bsmt Exposure_No', 'Garage Finish_Unf', 'Lot Frontage', 'Half Bath', 'Exterior 1st_BrkFace', 'Bsmt Unf SF', 'Sale Condition_Partial', 'Garage Type_Attchd', 'Garage Type_Detchd', 'Neighborhood_Edwards', 'Sale Type_New', 'House Style_1Story', 'Foundation_PConc', 'MS SubClass', 'Lot Shape_Reg', 'Enclosed Porch', 'Neighborhood_CollgCr', 'TotRms AbvGrd', 'MS Zoning_FV', 'Yr Sold', 'Mas Vnr Area', 'Neighborhood_NAmes', 'Mo Sold', 'Exterior 1st_VinylSd', 'Kitchen AbvGr', 'Neighborhood_OldTown', 'Condition 1_Feedr', 'Garage Type_None', 'Neighborhood_BrkSide', 'Neighborhood_SWISU', 'BsmtFin Type 1_Rec', 'Alley_None', 'Land Contour_Lvl', 'Exterior 1st_Wd Sdng', 'Bedroom AbvGr', 'Functional_Min2', 'Exterior 2nd_MetalSd', 'Neighborhood_Sawyer', 'Lot Config_Inside', 'Lot Config_CulDSac', 'Mas Vnr Type_BrkFace', 'BsmtFin SF 2', 'Neighborhood_Gilbert', 'Bldg Type_TwnhsE', 'Neighborhood_Mitchel', 'Garage Type_Basment', 'Foundation_CBlock', 'Exterior 2nd_Wd Sdng', 'Exterior 2nd_VinylSd', 'Lot Config_FR2', 'Neighborhood_SawyerW', 'Paved Drive_P', 'Garage Finish_None', 'Electrical_SBrkr', 'Fence_MnPrv', 'Bsmt Half Bath', 'Garage Type_BuiltIn', 'Neighborhood_Somerst', 'BsmtFin Type 2_Unf', 'Exterior 1st_Stucco', 'Exterior 2nd_Stucco', 'BsmtFin Type 1_LwQ', 'Misc Val', 'Neighborhood_NWAmes', 'Sale Type_Oth', 'Exterior 1st_Plywood', 'Condition 1_PosN', 'BsmtFin Type 1_BLQ', 'BsmtFin Type 2_Rec', 'Bsmt Exposure_Mn', 'Condition 1_PosA', 'Electrical_FuseF', 'Sale Condition_Alloca', 'Functional_Min1', 'Exter Qual', 'Exter Cond', 'Bsmt Qual', 'Bsmt Cond', 'Heating QC', 'Low Qual Fin SF', 'Kitchen Qual', 'Fireplace Qu', 'Garage Qual', 'Garage Cond', '3Ssn Porch', 'Pool Area', 'Pool QC', 'MS Zoning_C (all)', 'MS Zoning_I (all)', 'MS Zoning_RH', 'Street_Pave', 'Neighborhood_Blueste', 'Neighborhood_BrDale', 'Neighborhood_ClearCr', 'Neighborhood_Greens', 'Neighborhood_GrnHill', 'Neighborhood_IDOTRR', 'Neighborhood_Landmrk', 'Neighborhood_MeadowV', 'Neighborhood_NPkVill', 'Neighborhood_NoRidge', 'Neighborhood_NridgHt', 'Neighborhood_StoneBr', 'Neighborhood_Timber', 'Neighborhood_Veenker', 'Condition 1_RRAe', 'Condition 1_RRAn', 'Condition 1_RRNe', 'Condition 1_RRNn', 'Condition 2_Feedr', 'Condition 2_Norm', 'Condition 2_PosA', 'Condition 2_PosN', 'Condition 2_RRAe', 'Condition 2_RRAn', 'Condition 2_RRNn', 'Bldg Type_2fmCon', 'Bldg Type_Duplex', 'Bldg Type_Twnhs', 'House Style_1.5Unf', 'House Style_2.5Fin', 'House Style_2.5Unf', 'House Style_2Story', 'House Style_SFoyer', 'House Style_SLvl', 'Roof Style_Gable', 'Roof Style_Gambrel', 'Roof Style_Hip', 'Roof Style_Mansard', 'Roof Style_Shed', 'Roof Matl_CompShg', 'Roof Matl_Membran', 'Roof Matl_Metal', 'Roof Matl_Roll', 'Roof Matl_Tar&Grv', 'Roof Matl_WdShake', 'Roof Matl_WdShngl', 'Exterior 1st_AsphShn', 'Exterior 1st_BrkComm', 'Exterior 1st_CBlock', 'Exterior 1st_CemntBd', 'Exterior 1st_HdBoard', 'Exterior 1st_ImStucc', 'Exterior 1st_MetalSd', 'Exterior 1st_PreCast', 'Exterior 1st_Stone', 'Exterior 1st_WdShing', 'Exterior 2nd_AsphShn', 'Exterior 2nd_Brk Cmn', 'Exterior 2nd_BrkFace', 'Exterior 2nd_CBlock', 'Exterior 2nd_CmentBd', 'Exterior 2nd_HdBoard', 'Exterior 2nd_ImStucc', 'Exterior 2nd_Other', 'Exterior 2nd_Plywood', 'Exterior 2nd_PreCast', 'Exterior 2nd_Stone', 'Exterior 2nd_Wd Shng', 'Heating_GasA', 'Heating_GasW', 'Heating_Grav', 'Heating_OthW', 'Heating_Wall', 'Electrical_FuseP', 'Electrical_Mix', 'Functional_Maj2', 'Functional_Mod', 'Functional_Sal', 'Functional_Sev', 'Garage Type_CarPort', 'Garage Finish_RFn', 'Sale Type_CWD', 'Sale Type_Con', 'Sale Type_ConLD', 'Sale Type_ConLI', 'Sale Type_ConLw', 'Sale Type_VWD', 'Sale Type_WD ', 'Sale Condition_AdjLand', 'Sale Condition_Family', 'Foundation_Slab', 'Foundation_Stone', 'Foundation_Wood', 'Lot Config_FR3', 'Land Slope_Mod', 'Land Slope_Sev', 'Land Contour_HLS', 'Land Contour_Low', 'Lot Shape_IR2', 'Lot Shape_IR3', 'Misc Feature_Gar2', 'Misc Feature_None', 'Misc Feature_Othr', 'Misc Feature_Shed', 'Misc Feature_TenC', 'Fence_GdWo', 'Fence_MnWw', 'Fence_None', 'Alley_Pave', 'Mas Vnr Type_CBlock', 'Mas Vnr Type_None', 'Mas Vnr Type_Stone', 'Bsmt Exposure_None', 'BsmtFin Type 1_None', 'BsmtFin Type 1_Unf', 'BsmtFin Type 2_BLQ', 'BsmtFin Type 2_GLQ', 'BsmtFin Type 2_LwQ', 'BsmtFin Type 2_None', 'Utilities_NoSeWa', 'Utilities_NoSewr']\n"
     ]
    }
   ],
   "source": [
    "import numpy as np\n",
    "\n",
    "# Compute mean absolute SHAP values for each feature\n",
    "shap_values_abs = np.abs(shap_values.values).mean(axis=0)\n",
    "\n",
    "# Map to feature names\n",
    "feature_importance = dict(zip(X_train.columns, shap_values_abs))\n",
    "\n",
    "# Sort descending\n",
    "sorted_features = sorted(feature_importance.items(), key=lambda x: x[1], reverse=True)\n",
    "\n",
    "# Convert to a ranked list of feature names\n",
    "top_features = [feature for feature, importance in sorted_features]\n",
    "print(top_features)\n"
   ]
  },
  {
   "cell_type": "code",
   "execution_count": 17,
   "id": "34a23b1e",
   "metadata": {
    "execution": {
     "iopub.execute_input": "2025-06-22T09:23:09.161569Z",
     "iopub.status.busy": "2025-06-22T09:23:09.160991Z",
     "iopub.status.idle": "2025-06-22T09:23:10.008509Z",
     "shell.execute_reply": "2025-06-22T09:23:10.007662Z"
    },
    "papermill": {
     "duration": 0.856802,
     "end_time": "2025-06-22T09:23:10.009975",
     "exception": false,
     "start_time": "2025-06-22T09:23:09.153173",
     "status": "completed"
    },
    "tags": []
   },
   "outputs": [
    {
     "data": {
      "text/html": [
       "<style>#sk-container-id-1 {color: black;background-color: white;}#sk-container-id-1 pre{padding: 0;}#sk-container-id-1 div.sk-toggleable {background-color: white;}#sk-container-id-1 label.sk-toggleable__label {cursor: pointer;display: block;width: 100%;margin-bottom: 0;padding: 0.3em;box-sizing: border-box;text-align: center;}#sk-container-id-1 label.sk-toggleable__label-arrow:before {content: \"▸\";float: left;margin-right: 0.25em;color: #696969;}#sk-container-id-1 label.sk-toggleable__label-arrow:hover:before {color: black;}#sk-container-id-1 div.sk-estimator:hover label.sk-toggleable__label-arrow:before {color: black;}#sk-container-id-1 div.sk-toggleable__content {max-height: 0;max-width: 0;overflow: hidden;text-align: left;background-color: #f0f8ff;}#sk-container-id-1 div.sk-toggleable__content pre {margin: 0.2em;color: black;border-radius: 0.25em;background-color: #f0f8ff;}#sk-container-id-1 input.sk-toggleable__control:checked~div.sk-toggleable__content {max-height: 200px;max-width: 100%;overflow: auto;}#sk-container-id-1 input.sk-toggleable__control:checked~label.sk-toggleable__label-arrow:before {content: \"▾\";}#sk-container-id-1 div.sk-estimator input.sk-toggleable__control:checked~label.sk-toggleable__label {background-color: #d4ebff;}#sk-container-id-1 div.sk-label input.sk-toggleable__control:checked~label.sk-toggleable__label {background-color: #d4ebff;}#sk-container-id-1 input.sk-hidden--visually {border: 0;clip: rect(1px 1px 1px 1px);clip: rect(1px, 1px, 1px, 1px);height: 1px;margin: -1px;overflow: hidden;padding: 0;position: absolute;width: 1px;}#sk-container-id-1 div.sk-estimator {font-family: monospace;background-color: #f0f8ff;border: 1px dotted black;border-radius: 0.25em;box-sizing: border-box;margin-bottom: 0.5em;}#sk-container-id-1 div.sk-estimator:hover {background-color: #d4ebff;}#sk-container-id-1 div.sk-parallel-item::after {content: \"\";width: 100%;border-bottom: 1px solid gray;flex-grow: 1;}#sk-container-id-1 div.sk-label:hover label.sk-toggleable__label {background-color: #d4ebff;}#sk-container-id-1 div.sk-serial::before {content: \"\";position: absolute;border-left: 1px solid gray;box-sizing: border-box;top: 0;bottom: 0;left: 50%;z-index: 0;}#sk-container-id-1 div.sk-serial {display: flex;flex-direction: column;align-items: center;background-color: white;padding-right: 0.2em;padding-left: 0.2em;position: relative;}#sk-container-id-1 div.sk-item {position: relative;z-index: 1;}#sk-container-id-1 div.sk-parallel {display: flex;align-items: stretch;justify-content: center;background-color: white;position: relative;}#sk-container-id-1 div.sk-item::before, #sk-container-id-1 div.sk-parallel-item::before {content: \"\";position: absolute;border-left: 1px solid gray;box-sizing: border-box;top: 0;bottom: 0;left: 50%;z-index: -1;}#sk-container-id-1 div.sk-parallel-item {display: flex;flex-direction: column;z-index: 1;position: relative;background-color: white;}#sk-container-id-1 div.sk-parallel-item:first-child::after {align-self: flex-end;width: 50%;}#sk-container-id-1 div.sk-parallel-item:last-child::after {align-self: flex-start;width: 50%;}#sk-container-id-1 div.sk-parallel-item:only-child::after {width: 0;}#sk-container-id-1 div.sk-dashed-wrapped {border: 1px dashed gray;margin: 0 0.4em 0.5em 0.4em;box-sizing: border-box;padding-bottom: 0.4em;background-color: white;}#sk-container-id-1 div.sk-label label {font-family: monospace;font-weight: bold;display: inline-block;line-height: 1.2em;}#sk-container-id-1 div.sk-label-container {text-align: center;}#sk-container-id-1 div.sk-container {/* jupyter's `normalize.less` sets `[hidden] { display: none; }` but bootstrap.min.css set `[hidden] { display: none !important; }` so we also need the `!important` here to be able to override the default hidden behavior on the sphinx rendered scikit-learn.org. See: https://github.com/scikit-learn/scikit-learn/issues/21755 */display: inline-block !important;position: relative;}#sk-container-id-1 div.sk-text-repr-fallback {display: none;}</style><div id=\"sk-container-id-1\" class=\"sk-top-container\"><div class=\"sk-text-repr-fallback\"><pre>XGBRegressor(base_score=None, booster=None, callbacks=None,\n",
       "             colsample_bylevel=None, colsample_bynode=None,\n",
       "             colsample_bytree=0.8, device=None, early_stopping_rounds=None,\n",
       "             enable_categorical=False, eval_metric=None, feature_types=None,\n",
       "             gamma=0.05, grow_policy=None, importance_type=None,\n",
       "             interaction_constraints=None, learning_rate=0.02, max_bin=None,\n",
       "             max_cat_threshold=None, max_cat_to_onehot=None,\n",
       "             max_delta_step=None, max_depth=4, max_leaves=None,\n",
       "             min_child_weight=None, missing=nan, monotone_constraints=None,\n",
       "             multi_strategy=None, n_estimators=388, n_jobs=None,\n",
       "             num_parallel_tree=None, random_state=42, ...)</pre><b>In a Jupyter environment, please rerun this cell to show the HTML representation or trust the notebook. <br />On GitHub, the HTML representation is unable to render, please try loading this page with nbviewer.org.</b></div><div class=\"sk-container\" hidden><div class=\"sk-item\"><div class=\"sk-estimator sk-toggleable\"><input class=\"sk-toggleable__control sk-hidden--visually\" id=\"sk-estimator-id-1\" type=\"checkbox\" checked><label for=\"sk-estimator-id-1\" class=\"sk-toggleable__label sk-toggleable__label-arrow\">XGBRegressor</label><div class=\"sk-toggleable__content\"><pre>XGBRegressor(base_score=None, booster=None, callbacks=None,\n",
       "             colsample_bylevel=None, colsample_bynode=None,\n",
       "             colsample_bytree=0.8, device=None, early_stopping_rounds=None,\n",
       "             enable_categorical=False, eval_metric=None, feature_types=None,\n",
       "             gamma=0.05, grow_policy=None, importance_type=None,\n",
       "             interaction_constraints=None, learning_rate=0.02, max_bin=None,\n",
       "             max_cat_threshold=None, max_cat_to_onehot=None,\n",
       "             max_delta_step=None, max_depth=4, max_leaves=None,\n",
       "             min_child_weight=None, missing=nan, monotone_constraints=None,\n",
       "             multi_strategy=None, n_estimators=388, n_jobs=None,\n",
       "             num_parallel_tree=None, random_state=42, ...)</pre></div></div></div></div></div>"
      ],
      "text/plain": [
       "XGBRegressor(base_score=None, booster=None, callbacks=None,\n",
       "             colsample_bylevel=None, colsample_bynode=None,\n",
       "             colsample_bytree=0.8, device=None, early_stopping_rounds=None,\n",
       "             enable_categorical=False, eval_metric=None, feature_types=None,\n",
       "             gamma=0.05, grow_policy=None, importance_type=None,\n",
       "             interaction_constraints=None, learning_rate=0.02, max_bin=None,\n",
       "             max_cat_threshold=None, max_cat_to_onehot=None,\n",
       "             max_delta_step=None, max_depth=4, max_leaves=None,\n",
       "             min_child_weight=None, missing=nan, monotone_constraints=None,\n",
       "             multi_strategy=None, n_estimators=388, n_jobs=None,\n",
       "             num_parallel_tree=None, random_state=42, ...)"
      ]
     },
     "execution_count": 17,
     "metadata": {},
     "output_type": "execute_result"
    }
   ],
   "source": [
    "#train on full DS\n",
    "# X and y already contain all your encoded features and log-transformed target\n",
    "xgb_final_full = XGBRegressor(\n",
    "    n_estimators=388,\n",
    "    max_depth=4,\n",
    "    learning_rate=0.02,\n",
    "    subsample=0.993,\n",
    "    colsample_bytree=0.8,\n",
    "    gamma=0.05,\n",
    "    reg_alpha=1.0,\n",
    "    reg_lambda=0.07,\n",
    "    random_state=42\n",
    ")\n",
    "\n",
    "# Full data training—no split\n",
    "xgb_final_full.fit(X, y)\n"
   ]
  },
  {
   "cell_type": "code",
   "execution_count": 18,
   "id": "f05f8c34",
   "metadata": {
    "execution": {
     "iopub.execute_input": "2025-06-22T09:23:10.026445Z",
     "iopub.status.busy": "2025-06-22T09:23:10.025850Z",
     "iopub.status.idle": "2025-06-22T09:23:13.915081Z",
     "shell.execute_reply": "2025-06-22T09:23:13.913968Z"
    },
    "papermill": {
     "duration": 3.898715,
     "end_time": "2025-06-22T09:23:13.916465",
     "exception": false,
     "start_time": "2025-06-22T09:23:10.017750",
     "status": "completed"
    },
    "tags": []
   },
   "outputs": [
    {
     "name": "stdout",
     "output_type": "stream",
     "text": [
      "CV RMSE (avg): 0.13\n",
      "CV RMSE (std): 0.01\n"
     ]
    }
   ],
   "source": [
    "from sklearn.model_selection import cross_val_score\n",
    "from sklearn.metrics import make_scorer, mean_squared_error\n",
    "\n",
    "rmse_scorer = make_scorer(mean_squared_error, greater_is_better=False, squared=False)\n",
    "\n",
    "# Run 5-fold cross-validation\n",
    "cv_rmse = cross_val_score(\n",
    "    xgb_final_full, X, y, cv=5, scoring=rmse_scorer\n",
    ")\n",
    "\n",
    "print(f\"CV RMSE (avg): {-cv_rmse.mean():.2f}\")\n",
    "print(f\"CV RMSE (std): {cv_rmse.std():.2f}\")\n"
   ]
  },
  {
   "cell_type": "code",
   "execution_count": 19,
   "id": "07d66702",
   "metadata": {
    "execution": {
     "iopub.execute_input": "2025-06-22T09:23:13.932709Z",
     "iopub.status.busy": "2025-06-22T09:23:13.932396Z",
     "iopub.status.idle": "2025-06-22T09:23:14.012024Z",
     "shell.execute_reply": "2025-06-22T09:23:14.011015Z"
    },
    "papermill": {
     "duration": 0.089362,
     "end_time": "2025-06-22T09:23:14.013552",
     "exception": false,
     "start_time": "2025-06-22T09:23:13.924190",
     "status": "completed"
    },
    "tags": []
   },
   "outputs": [
    {
     "name": "stdout",
     "output_type": "stream",
     "text": [
      "Final Training RMSE: 18519.92\n"
     ]
    }
   ],
   "source": [
    "y_pred_log = xgb_final_full.predict(X)\n",
    "y_pred = np.expm1(y_pred_log)\n",
    "y_actual = np.expm1(y)\n",
    "\n",
    "rmse = np.sqrt(mean_squared_error(y_actual, y_pred))\n",
    "print(f\"Final Training RMSE: {rmse:.2f}\")\n"
   ]
  },
  {
   "cell_type": "code",
   "execution_count": 20,
   "id": "654e9db2",
   "metadata": {
    "execution": {
     "iopub.execute_input": "2025-06-22T09:23:14.030006Z",
     "iopub.status.busy": "2025-06-22T09:23:14.029665Z",
     "iopub.status.idle": "2025-06-22T09:23:14.068797Z",
     "shell.execute_reply": "2025-06-22T09:23:14.067991Z"
    },
    "papermill": {
     "duration": 0.049091,
     "end_time": "2025-06-22T09:23:14.070358",
     "exception": false,
     "start_time": "2025-06-22T09:23:14.021267",
     "status": "completed"
    },
    "tags": []
   },
   "outputs": [],
   "source": [
    "test_df = pd.read_csv('/kaggle/input/test-csv/test.csv')\n",
    "test_df=handle_missing_values(test_df)\n",
    "# Encode features\n",
    "test_encoded = encode_features(test_df) "
   ]
  },
  {
   "cell_type": "code",
   "execution_count": 21,
   "id": "d9a1709e",
   "metadata": {
    "execution": {
     "iopub.execute_input": "2025-06-22T09:23:14.087140Z",
     "iopub.status.busy": "2025-06-22T09:23:14.086863Z",
     "iopub.status.idle": "2025-06-22T09:23:14.098492Z",
     "shell.execute_reply": "2025-06-22T09:23:14.097691Z"
    },
    "papermill": {
     "duration": 0.021469,
     "end_time": "2025-06-22T09:23:14.099980",
     "exception": false,
     "start_time": "2025-06-22T09:23:14.078511",
     "status": "completed"
    },
    "tags": []
   },
   "outputs": [],
   "source": [
    "# Align with training columns and fill missing values\n",
    "X_test_final = test_encoded.reindex(columns=X.columns).fillna(0)\n"
   ]
  },
  {
   "cell_type": "code",
   "execution_count": 22,
   "id": "c221e892",
   "metadata": {
    "execution": {
     "iopub.execute_input": "2025-06-22T09:23:14.116473Z",
     "iopub.status.busy": "2025-06-22T09:23:14.115837Z",
     "iopub.status.idle": "2025-06-22T09:23:14.178819Z",
     "shell.execute_reply": "2025-06-22T09:23:14.177831Z"
    },
    "papermill": {
     "duration": 0.072637,
     "end_time": "2025-06-22T09:23:14.180345",
     "exception": false,
     "start_time": "2025-06-22T09:23:14.107708",
     "status": "completed"
    },
    "tags": []
   },
   "outputs": [],
   "source": [
    "y_test_pred_log = xgb_final_full.predict(X_test_final)\n",
    "y_test_pred = np.expm1(y_test_pred_log)\n",
    "\n",
    "submission = pd.DataFrame({\n",
    "    'Id': test_df['Id'],\n",
    "    'SalePrice': y_test_pred\n",
    "})\n",
    "submission.to_csv('submission.csv', index=False)\n"
   ]
  }
 ],
 "metadata": {
  "kaggle": {
   "accelerator": "none",
   "dataSources": [
    {
     "datasetId": 51153,
     "sourceId": 95503,
     "sourceType": "datasetVersion"
    },
    {
     "datasetId": 7715314,
     "sourceId": 12244945,
     "sourceType": "datasetVersion"
    }
   ],
   "dockerImageVersionId": 31040,
   "isGpuEnabled": false,
   "isInternetEnabled": true,
   "language": "python",
   "sourceType": "notebook"
  },
  "kernelspec": {
   "display_name": "Python 3",
   "language": "python",
   "name": "python3"
  },
  "language_info": {
   "codemirror_mode": {
    "name": "ipython",
    "version": 3
   },
   "file_extension": ".py",
   "mimetype": "text/x-python",
   "name": "python",
   "nbconvert_exporter": "python",
   "pygments_lexer": "ipython3",
   "version": "3.11.11"
  },
  "papermill": {
   "default_parameters": {},
   "duration": 27.018791,
   "end_time": "2025-06-22T09:23:16.649393",
   "environment_variables": {},
   "exception": null,
   "input_path": "__notebook__.ipynb",
   "output_path": "__notebook__.ipynb",
   "parameters": {},
   "start_time": "2025-06-22T09:22:49.630602",
   "version": "2.6.0"
  }
 },
 "nbformat": 4,
 "nbformat_minor": 5
}
