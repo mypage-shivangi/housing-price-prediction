{
 "cells": [
  {
   "cell_type": "code",
   "execution_count": 1,
   "id": "674cae7f",
   "metadata": {
    "_cell_guid": "b1076dfc-b9ad-4769-8c92-a6c4dae69d19",
    "_uuid": "8f2839f25d086af736a60e9eeb907d3b93b6e0e5",
    "execution": {
     "iopub.execute_input": "2025-07-30T13:38:52.356825Z",
     "iopub.status.busy": "2025-07-30T13:38:52.356369Z",
     "iopub.status.idle": "2025-07-30T13:38:54.546036Z",
     "shell.execute_reply": "2025-07-30T13:38:54.544834Z"
    },
    "papermill": {
     "duration": 2.200379,
     "end_time": "2025-07-30T13:38:54.547890",
     "exception": false,
     "start_time": "2025-07-30T13:38:52.347511",
     "status": "completed"
    },
    "tags": []
   },
   "outputs": [
    {
     "name": "stdout",
     "output_type": "stream",
     "text": [
      "/kaggle/input/house-prices-pred/train.csv\n",
      "/kaggle/input/house-prices-pred/test.csv\n"
     ]
    }
   ],
   "source": [
    "# This Python 3 environment comes with many helpful analytics libraries installed\n",
    "# It is defined by the kaggle/python Docker image: https://github.com/kaggle/docker-python\n",
    "# For example, here's several helpful packages to load\n",
    "\n",
    "import numpy as np # linear algebra\n",
    "import pandas as pd # data processing, CSV file I/O (e.g. pd.read_csv)\n",
    "\n",
    "# Input data files are available in the read-only \"../input/\" directory\n",
    "# For example, running this (by clicking run or pressing Shift+Enter) will list all files under the input directory\n",
    "\n",
    "import os\n",
    "for dirname, _, filenames in os.walk('/kaggle/input'):\n",
    "    for filename in filenames:\n",
    "        print(os.path.join(dirname, filename))\n",
    "\n",
    "# You can write up to 20GB to the current directory (/kaggle/working/) that gets preserved as output when you create a version using \"Save & Run All\" \n",
    "# You can also write temporary files to /kaggle/temp/, but they won't be saved outside of the current session"
   ]
  },
  {
   "cell_type": "code",
   "execution_count": 2,
   "id": "469e57d2",
   "metadata": {
    "execution": {
     "iopub.execute_input": "2025-07-30T13:38:54.561525Z",
     "iopub.status.busy": "2025-07-30T13:38:54.561061Z",
     "iopub.status.idle": "2025-07-30T13:38:54.637980Z",
     "shell.execute_reply": "2025-07-30T13:38:54.636646Z"
    },
    "papermill": {
     "duration": 0.085855,
     "end_time": "2025-07-30T13:38:54.639763",
     "exception": false,
     "start_time": "2025-07-30T13:38:54.553908",
     "status": "completed"
    },
    "tags": []
   },
   "outputs": [
    {
     "name": "stdout",
     "output_type": "stream",
     "text": [
      "   Id  MSSubClass MSZoning  LotFrontage  LotArea Street Alley LotShape  \\\n",
      "0   1          60       RL         65.0     8450   Pave   NaN      Reg   \n",
      "1   2          20       RL         80.0     9600   Pave   NaN      Reg   \n",
      "2   3          60       RL         68.0    11250   Pave   NaN      IR1   \n",
      "3   4          70       RL         60.0     9550   Pave   NaN      IR1   \n",
      "4   5          60       RL         84.0    14260   Pave   NaN      IR1   \n",
      "\n",
      "  LandContour Utilities  ... PoolArea PoolQC Fence MiscFeature MiscVal MoSold  \\\n",
      "0         Lvl    AllPub  ...        0    NaN   NaN         NaN       0      2   \n",
      "1         Lvl    AllPub  ...        0    NaN   NaN         NaN       0      5   \n",
      "2         Lvl    AllPub  ...        0    NaN   NaN         NaN       0      9   \n",
      "3         Lvl    AllPub  ...        0    NaN   NaN         NaN       0      2   \n",
      "4         Lvl    AllPub  ...        0    NaN   NaN         NaN       0     12   \n",
      "\n",
      "  YrSold  SaleType  SaleCondition  SalePrice  \n",
      "0   2008        WD         Normal     208500  \n",
      "1   2007        WD         Normal     181500  \n",
      "2   2008        WD         Normal     223500  \n",
      "3   2006        WD        Abnorml     140000  \n",
      "4   2008        WD         Normal     250000  \n",
      "\n",
      "[5 rows x 81 columns]\n"
     ]
    }
   ],
   "source": [
    "df=pd.read_csv('/kaggle/input/house-prices-pred/train.csv')\n",
    "print(df.head())"
   ]
  },
  {
   "cell_type": "code",
   "execution_count": 3,
   "id": "4c5dd2a5",
   "metadata": {
    "execution": {
     "iopub.execute_input": "2025-07-30T13:38:54.653811Z",
     "iopub.status.busy": "2025-07-30T13:38:54.653323Z",
     "iopub.status.idle": "2025-07-30T13:38:54.693039Z",
     "shell.execute_reply": "2025-07-30T13:38:54.691885Z"
    },
    "papermill": {
     "duration": 0.049685,
     "end_time": "2025-07-30T13:38:54.695199",
     "exception": false,
     "start_time": "2025-07-30T13:38:54.645514",
     "status": "completed"
    },
    "tags": []
   },
   "outputs": [
    {
     "name": "stdout",
     "output_type": "stream",
     "text": [
      "     Id  MSSubClass MSZoning  LotFrontage  LotArea Street Alley LotShape  \\\n",
      "0  1461          20       RH         80.0    11622   Pave   NaN      Reg   \n",
      "1  1462          20       RL         81.0    14267   Pave   NaN      IR1   \n",
      "2  1463          60       RL         74.0    13830   Pave   NaN      IR1   \n",
      "3  1464          60       RL         78.0     9978   Pave   NaN      IR1   \n",
      "4  1465         120       RL         43.0     5005   Pave   NaN      IR1   \n",
      "\n",
      "  LandContour Utilities  ... ScreenPorch PoolArea PoolQC  Fence MiscFeature  \\\n",
      "0         Lvl    AllPub  ...         120        0    NaN  MnPrv         NaN   \n",
      "1         Lvl    AllPub  ...           0        0    NaN    NaN        Gar2   \n",
      "2         Lvl    AllPub  ...           0        0    NaN  MnPrv         NaN   \n",
      "3         Lvl    AllPub  ...           0        0    NaN    NaN         NaN   \n",
      "4         HLS    AllPub  ...         144        0    NaN    NaN         NaN   \n",
      "\n",
      "  MiscVal MoSold  YrSold  SaleType  SaleCondition  \n",
      "0       0      6    2010        WD         Normal  \n",
      "1   12500      6    2010        WD         Normal  \n",
      "2       0      3    2010        WD         Normal  \n",
      "3       0      6    2010        WD         Normal  \n",
      "4       0      1    2010        WD         Normal  \n",
      "\n",
      "[5 rows x 80 columns]\n"
     ]
    }
   ],
   "source": [
    "test_df=pd.read_csv('/kaggle/input/house-prices-pred/test.csv')\n",
    "print(test_df.head())"
   ]
  },
  {
   "cell_type": "code",
   "execution_count": 4,
   "id": "12c0281b",
   "metadata": {
    "execution": {
     "iopub.execute_input": "2025-07-30T13:38:54.709232Z",
     "iopub.status.busy": "2025-07-30T13:38:54.708854Z",
     "iopub.status.idle": "2025-07-30T13:38:54.719882Z",
     "shell.execute_reply": "2025-07-30T13:38:54.718817Z"
    },
    "papermill": {
     "duration": 0.020188,
     "end_time": "2025-07-30T13:38:54.721874",
     "exception": false,
     "start_time": "2025-07-30T13:38:54.701686",
     "status": "completed"
    },
    "tags": []
   },
   "outputs": [],
   "source": [
    "# Drop existing missing flags if they were added in earlier runs\n",
    "df = df.loc[:, ~df.columns.str.startswith('missing_')]\n"
   ]
  },
  {
   "cell_type": "code",
   "execution_count": 5,
   "id": "fbdbdb3a",
   "metadata": {
    "execution": {
     "iopub.execute_input": "2025-07-30T13:38:54.734680Z",
     "iopub.status.busy": "2025-07-30T13:38:54.734375Z",
     "iopub.status.idle": "2025-07-30T13:38:54.741194Z",
     "shell.execute_reply": "2025-07-30T13:38:54.740176Z"
    },
    "papermill": {
     "duration": 0.015434,
     "end_time": "2025-07-30T13:38:54.743330",
     "exception": false,
     "start_time": "2025-07-30T13:38:54.727896",
     "status": "completed"
    },
    "tags": []
   },
   "outputs": [],
   "source": [
    "# Drop existing missing flags if they were added in earlier runs\n",
    "test_df = test_df.loc[:, ~test_df.columns.str.startswith('missing_')]\n"
   ]
  },
  {
   "cell_type": "code",
   "execution_count": 6,
   "id": "59be02d1",
   "metadata": {
    "execution": {
     "iopub.execute_input": "2025-07-30T13:38:54.755637Z",
     "iopub.status.busy": "2025-07-30T13:38:54.755359Z",
     "iopub.status.idle": "2025-07-30T13:38:54.811600Z",
     "shell.execute_reply": "2025-07-30T13:38:54.810445Z"
    },
    "papermill": {
     "duration": 0.064914,
     "end_time": "2025-07-30T13:38:54.813401",
     "exception": false,
     "start_time": "2025-07-30T13:38:54.748487",
     "status": "completed"
    },
    "tags": []
   },
   "outputs": [
    {
     "name": "stdout",
     "output_type": "stream",
     "text": [
      "SalePrice               1.000000\n",
      "missing_Fence           0.172184\n",
      "missing_Alley           0.123611\n",
      "missing_MiscFeature     0.072298\n",
      "missing_MasVnrArea      0.051933\n",
      "missing_LotFrontage     0.004087\n",
      "missing_Electrical     -0.004424\n",
      "missing_PoolQC         -0.093708\n",
      "missing_BsmtFinType2   -0.145274\n",
      "missing_BsmtExposure   -0.150231\n",
      "missing_BsmtFinType1   -0.152829\n",
      "missing_BsmtCond       -0.152829\n",
      "missing_BsmtQual       -0.152829\n",
      "missing_GarageType     -0.236832\n",
      "missing_GarageYrBlt    -0.236832\n",
      "missing_GarageFinish   -0.236832\n",
      "missing_GarageQual     -0.236832\n",
      "missing_GarageCond     -0.236832\n",
      "missing_MasVnrType     -0.367456\n",
      "missing_FireplaceQu    -0.471908\n",
      "Name: SalePrice, dtype: float64\n"
     ]
    }
   ],
   "source": [
    "# Step 1: Add missing indicators\n",
    "missing_flags = df.isnull().astype(int).add_prefix('missing_')\n",
    "df = pd.concat([df, missing_flags], axis=1)\n",
    "\n",
    "# Step 2: Ensure the column list exists and is correct\n",
    "cols_to_check = [col for col in missing_flags.columns if col in df.columns]\n",
    "cols_to_check.append('SalePrice')\n",
    "\n",
    "# Step 3: Compute correlation\n",
    "missing_corr = df[cols_to_check].corr(numeric_only=True)['SalePrice'].sort_values(ascending=False)\n",
    "\n",
    "# Step 4: Display\n",
    "print(missing_corr.head(20))"
   ]
  },
  {
   "cell_type": "code",
   "execution_count": 7,
   "id": "354d994e",
   "metadata": {
    "execution": {
     "iopub.execute_input": "2025-07-30T13:38:54.825883Z",
     "iopub.status.busy": "2025-07-30T13:38:54.825515Z",
     "iopub.status.idle": "2025-07-30T13:38:54.831789Z",
     "shell.execute_reply": "2025-07-30T13:38:54.830388Z"
    },
    "papermill": {
     "duration": 0.014496,
     "end_time": "2025-07-30T13:38:54.833427",
     "exception": false,
     "start_time": "2025-07-30T13:38:54.818931",
     "status": "completed"
    },
    "tags": []
   },
   "outputs": [
    {
     "name": "stdout",
     "output_type": "stream",
     "text": [
      "Duplicate columns: []\n"
     ]
    }
   ],
   "source": [
    "duplicates = test_df.columns[test_df.columns.duplicated()].tolist()\n",
    "print(\"Duplicate columns:\", duplicates)\n"
   ]
  },
  {
   "cell_type": "code",
   "execution_count": 8,
   "id": "3f76b4c5",
   "metadata": {
    "execution": {
     "iopub.execute_input": "2025-07-30T13:38:54.846666Z",
     "iopub.status.busy": "2025-07-30T13:38:54.846341Z",
     "iopub.status.idle": "2025-07-30T13:38:54.869282Z",
     "shell.execute_reply": "2025-07-30T13:38:54.866753Z"
    },
    "papermill": {
     "duration": 0.031984,
     "end_time": "2025-07-30T13:38:54.871268",
     "exception": false,
     "start_time": "2025-07-30T13:38:54.839284",
     "status": "completed"
    },
    "tags": []
   },
   "outputs": [],
   "source": [
    "# Define quality mapping (low to high)\n",
    "quality_map = {\n",
    "    'None': 0, 'NA': 0,\n",
    "    'Po': 1, 'Fa': 2, 'TA': 3, 'Gd': 4, 'Ex': 5,\n",
    "    'Unf': 1, 'LwQ': 2, 'Rec': 3, 'BLQ': 4, 'ALQ': 5, 'GLQ': 6\n",
    "}\n",
    "\n",
    "# Fill missing with 'None' or 'NA' where appropriate\n",
    "for col in ['BsmtQual', 'BsmtCond', 'BsmtExposure', 'BsmtFinType1', 'BsmtFinType2']:\n",
    "    df[col] = df[col].fillna('None')\n",
    "\n",
    "# Map all 5 features using appropriate scale\n",
    "df['BsmtQual_score'] = df['BsmtQual'].map(quality_map)\n",
    "df['BsmtCond_score'] = df['BsmtCond'].map(quality_map)\n",
    "df['BsmtExposure_score'] = df['BsmtExposure'].map({'None': 0, 'No': 1, 'Mn': 2, 'Av': 3, 'Gd': 4})\n",
    "df['BsmtFinType1_score'] = df['BsmtFinType1'].map(quality_map)\n",
    "df['BsmtFinType2_score'] = df['BsmtFinType2'].map(quality_map)\n",
    "\n",
    "# Create a composite score\n",
    "df['BasementScore'] = df[\n",
    "    ['BsmtQual_score', 'BsmtCond_score', 'BsmtExposure_score', 'BsmtFinType1_score', 'BsmtFinType2_score']\n",
    "].sum(axis=1)\n"
   ]
  },
  {
   "cell_type": "code",
   "execution_count": 9,
   "id": "db715a0a",
   "metadata": {
    "execution": {
     "iopub.execute_input": "2025-07-30T13:38:54.883093Z",
     "iopub.status.busy": "2025-07-30T13:38:54.882812Z",
     "iopub.status.idle": "2025-07-30T13:38:54.889199Z",
     "shell.execute_reply": "2025-07-30T13:38:54.888133Z"
    },
    "papermill": {
     "duration": 0.013952,
     "end_time": "2025-07-30T13:38:54.890824",
     "exception": false,
     "start_time": "2025-07-30T13:38:54.876872",
     "status": "completed"
    },
    "tags": []
   },
   "outputs": [],
   "source": [
    "test_df = test_df.loc[:, ~test_df.columns.duplicated()]"
   ]
  },
  {
   "cell_type": "code",
   "execution_count": 10,
   "id": "73dc21f0",
   "metadata": {
    "execution": {
     "iopub.execute_input": "2025-07-30T13:38:54.903917Z",
     "iopub.status.busy": "2025-07-30T13:38:54.903508Z",
     "iopub.status.idle": "2025-07-30T13:38:54.907843Z",
     "shell.execute_reply": "2025-07-30T13:38:54.906921Z"
    },
    "papermill": {
     "duration": 0.012678,
     "end_time": "2025-07-30T13:38:54.909775",
     "exception": false,
     "start_time": "2025-07-30T13:38:54.897097",
     "status": "completed"
    },
    "tags": []
   },
   "outputs": [],
   "source": [
    "#X_test_final = test_df.reindex(columns=X.columns, fill_value=0)\n"
   ]
  },
  {
   "cell_type": "code",
   "execution_count": 11,
   "id": "d8f03da4",
   "metadata": {
    "execution": {
     "iopub.execute_input": "2025-07-30T13:38:54.922601Z",
     "iopub.status.busy": "2025-07-30T13:38:54.922297Z",
     "iopub.status.idle": "2025-07-30T13:38:54.941977Z",
     "shell.execute_reply": "2025-07-30T13:38:54.940807Z"
    },
    "papermill": {
     "duration": 0.027992,
     "end_time": "2025-07-30T13:38:54.943898",
     "exception": false,
     "start_time": "2025-07-30T13:38:54.915906",
     "status": "completed"
    },
    "tags": []
   },
   "outputs": [],
   "source": [
    "# Step 1: Add missing basement columns with default value 'None'\n",
    "basement_cols = ['BsmtQual', 'BsmtCond', 'BsmtExposure', 'BsmtFinType1', 'BsmtFinType2']\n",
    "for col in basement_cols:\n",
    "    test_df[col] = 'None'  # add column with default category\n",
    "\n",
    "# Step 2: Define quality mapping\n",
    "quality_map = {\n",
    "    'None': 0, 'NA': 0,\n",
    "    'Po': 1, 'Fa': 2, 'TA': 3, 'Gd': 4, 'Ex': 5,\n",
    "    'Unf': 1, 'LwQ': 2, 'Rec': 3, 'BLQ': 4, 'ALQ': 5, 'GLQ': 6\n",
    "}\n",
    "\n",
    "# Step 3: Map each feature to a score\n",
    "test_df['BsmtQual_score']      = test_df['BsmtQual'].map(quality_map)\n",
    "test_df['BsmtCond_score']      = test_df['BsmtCond'].map(quality_map)\n",
    "test_df['BsmtExposure_score']  = test_df['BsmtExposure'].map({'None': 0, 'No': 1, 'Mn': 2, 'Av': 3, 'Gd': 4})\n",
    "test_df['BsmtFinType1_score']  = test_df['BsmtFinType1'].map(quality_map)\n",
    "test_df['BsmtFinType2_score']  = test_df['BsmtFinType2'].map(quality_map)\n",
    "\n",
    "# Step 4: Create a composite score\n",
    "test_df['BasementScore'] = test_df[\n",
    "    ['BsmtQual_score', 'BsmtCond_score', 'BsmtExposure_score', 'BsmtFinType1_score', 'BsmtFinType2_score']\n",
    "].sum(axis=1)\n"
   ]
  },
  {
   "cell_type": "code",
   "execution_count": 12,
   "id": "44dc7371",
   "metadata": {
    "execution": {
     "iopub.execute_input": "2025-07-30T13:38:54.957455Z",
     "iopub.status.busy": "2025-07-30T13:38:54.957063Z",
     "iopub.status.idle": "2025-07-30T13:38:54.979056Z",
     "shell.execute_reply": "2025-07-30T13:38:54.977802Z"
    },
    "papermill": {
     "duration": 0.030866,
     "end_time": "2025-07-30T13:38:54.981083",
     "exception": false,
     "start_time": "2025-07-30T13:38:54.950217",
     "status": "completed"
    },
    "tags": []
   },
   "outputs": [],
   "source": [
    "# -------- Step 1: Handle Missing Values -------- #\n",
    "# Fill categorical features with 'None' (indicates no garage)\n",
    "garage_cat_cols = ['GarageType', 'GarageFinish', 'GarageQual', 'GarageCond']\n",
    "df[garage_cat_cols] = df[garage_cat_cols].fillna('None')\n",
    "\n",
    "# Fill numerical garage year with 0 (indicates no garage)\n",
    "df['GarageYrBlt'] = df['GarageYrBlt'].fillna(0)\n",
    "\n",
    "# -------- Step 2: Ordinal Mapping -------- #\n",
    "garage_quality_map = {\n",
    "    'None': 0, 'Po': 1, 'Fa': 2, 'TA': 3, 'Gd': 4, 'Ex': 5\n",
    "}\n",
    "\n",
    "garage_finish_map = {\n",
    "    'None': 0, 'Unf': 1, 'RFn': 2, 'Fin': 3\n",
    "}\n",
    "\n",
    "# Apply ordinal encoding\n",
    "df['GarageQual_score'] = df['GarageQual'].map(garage_quality_map)\n",
    "df['GarageCond_score'] = df['GarageCond'].map(garage_quality_map)\n",
    "df['GarageFinish_score'] = df['GarageFinish'].map(garage_finish_map)\n",
    "\n",
    "# -------- Step 3: Create Combined Feature -------- #\n",
    "df['GarageScore'] = df[['GarageQual_score', 'GarageCond_score', 'GarageFinish_score']].sum(axis=1)\n",
    "\n",
    "# -------- Optional: Drop Intermediate Columns -------- #\n",
    "df.drop(columns=[\n",
    "    'GarageQual', 'GarageCond', 'GarageFinish',\n",
    "    'GarageQual_score', 'GarageCond_score', 'GarageFinish_score'\n",
    "], inplace=True)\n"
   ]
  },
  {
   "cell_type": "code",
   "execution_count": 13,
   "id": "356ac920",
   "metadata": {
    "execution": {
     "iopub.execute_input": "2025-07-30T13:38:54.994237Z",
     "iopub.status.busy": "2025-07-30T13:38:54.993895Z",
     "iopub.status.idle": "2025-07-30T13:38:55.023719Z",
     "shell.execute_reply": "2025-07-30T13:38:55.022574Z"
    },
    "papermill": {
     "duration": 0.038975,
     "end_time": "2025-07-30T13:38:55.025437",
     "exception": false,
     "start_time": "2025-07-30T13:38:54.986462",
     "status": "completed"
    },
    "tags": []
   },
   "outputs": [],
   "source": [
    "# -------- Step 1: Handle Missing Values -------- #\n",
    "garage_cat_cols = ['GarageType', 'GarageFinish', 'GarageQual', 'GarageCond']\n",
    "\n",
    "# Add missing columns if they don't exist\n",
    "for col in garage_cat_cols + ['GarageYrBlt']:\n",
    "    if col not in test_df.columns:\n",
    "        test_df[col] = 'None' if col in garage_cat_cols else 0\n",
    "\n",
    "# Fill categorical garage columns with 'None'\n",
    "test_df.loc[:, garage_cat_cols] = test_df[garage_cat_cols].fillna('None')\n",
    "\n",
    "# Fill GarageYrBlt with 0\n",
    "test_df.loc[:, 'GarageYrBlt'] = test_df['GarageYrBlt'].fillna(0)\n",
    "\n",
    "# -------- Step 2: Ordinal Mapping -------- #\n",
    "garage_quality_map = {\n",
    "    'None': 0, 'Po': 1, 'Fa': 2, 'TA': 3, 'Gd': 4, 'Ex': 5\n",
    "}\n",
    "garage_finish_map = {\n",
    "    'None': 0, 'Unf': 1, 'RFn': 2, 'Fin': 3\n",
    "}\n",
    "\n",
    "# Apply ordinal encoding\n",
    "test_df.loc[:, 'GarageQual_score'] = test_df['GarageQual'].map(garage_quality_map)\n",
    "test_df.loc[:, 'GarageCond_score'] = test_df['GarageCond'].map(garage_quality_map)\n",
    "test_df.loc[:, 'GarageFinish_score'] = test_df['GarageFinish'].map(garage_finish_map)\n",
    "\n",
    "# -------- Step 3: Create Combined Feature -------- #\n",
    "test_df.loc[:, 'GarageScore'] = test_df[\n",
    "    ['GarageQual_score', 'GarageCond_score', 'GarageFinish_score']\n",
    "].sum(axis=1)\n",
    "\n",
    "# -------- Optional: Drop Intermediate Columns -------- #\n",
    "test_df.drop(columns=[\n",
    "    'GarageQual', 'GarageCond', 'GarageFinish',\n",
    "    'GarageQual_score', 'GarageCond_score', 'GarageFinish_score'\n",
    "], inplace=True, errors='ignore')  # Use errors='ignore' to avoid issues if columns missing\n"
   ]
  },
  {
   "cell_type": "code",
   "execution_count": 14,
   "id": "bdcf017f",
   "metadata": {
    "execution": {
     "iopub.execute_input": "2025-07-30T13:38:55.037759Z",
     "iopub.status.busy": "2025-07-30T13:38:55.037447Z",
     "iopub.status.idle": "2025-07-30T13:38:55.050404Z",
     "shell.execute_reply": "2025-07-30T13:38:55.049004Z"
    },
    "papermill": {
     "duration": 0.021068,
     "end_time": "2025-07-30T13:38:55.052292",
     "exception": false,
     "start_time": "2025-07-30T13:38:55.031224",
     "status": "completed"
    },
    "tags": []
   },
   "outputs": [],
   "source": [
    "# Engineered Features\n",
    "df['TotalArea'] = df['GrLivArea'] + df['TotalBsmtSF']\n",
    "df['AgeOfHouse'] = df['YrSold'] - df['YearBuilt']\n",
    "df['YearsSinceRemod'] = df['YrSold'] - df['YearRemodAdd']\n",
    "df['TotalBath'] = df['FullBath'] + 0.5 * df['HalfBath']\n",
    "df['IsRemodeled'] = (df['YearBuilt'] != df['YearRemodAdd']).astype(int)\n",
    "df['HasPorch'] = ((df['OpenPorchSF'] + df['EnclosedPorch'] +\n",
    "                   df['3SsnPorch'] + df['ScreenPorch']) > 0).astype(int)\n"
   ]
  },
  {
   "cell_type": "code",
   "execution_count": 15,
   "id": "e9c3b91b",
   "metadata": {
    "execution": {
     "iopub.execute_input": "2025-07-30T13:38:55.066180Z",
     "iopub.status.busy": "2025-07-30T13:38:55.065853Z",
     "iopub.status.idle": "2025-07-30T13:38:55.078195Z",
     "shell.execute_reply": "2025-07-30T13:38:55.077433Z"
    },
    "papermill": {
     "duration": 0.021912,
     "end_time": "2025-07-30T13:38:55.079863",
     "exception": false,
     "start_time": "2025-07-30T13:38:55.057951",
     "status": "completed"
    },
    "tags": []
   },
   "outputs": [],
   "source": [
    "# ---------- Engineered Features for test_df ---------- #\n",
    "\n",
    "# Safely create TotalArea\n",
    "test_df['TotalArea'] = test_df['GrLivArea'] + test_df['TotalBsmtSF']\n",
    "\n",
    "# Age-related features\n",
    "test_df['AgeOfHouse'] = test_df['YrSold'] - test_df['YearBuilt']\n",
    "test_df['YearsSinceRemod'] = test_df['YrSold'] - test_df['YearRemodAdd']\n",
    "\n",
    "# Total bathrooms (Full + Half)\n",
    "test_df['TotalBath'] = test_df['FullBath'] + 0.5 * test_df['HalfBath']\n",
    "\n",
    "# Was the house remodeled?\n",
    "test_df['IsRemodeled'] = (test_df['YearBuilt'] != test_df['YearRemodAdd']).astype(int)\n",
    "\n",
    "# Check if the house has any kind of porch\n",
    "test_df['HasPorch'] = (\n",
    "    (test_df['OpenPorchSF'] + test_df['EnclosedPorch'] +\n",
    "     test_df['3SsnPorch'] + test_df['ScreenPorch']) > 0\n",
    ").astype(int)\n"
   ]
  },
  {
   "cell_type": "code",
   "execution_count": 16,
   "id": "d765674d",
   "metadata": {
    "execution": {
     "iopub.execute_input": "2025-07-30T13:38:55.092377Z",
     "iopub.status.busy": "2025-07-30T13:38:55.092079Z",
     "iopub.status.idle": "2025-07-30T13:38:55.105817Z",
     "shell.execute_reply": "2025-07-30T13:38:55.104701Z"
    },
    "papermill": {
     "duration": 0.022106,
     "end_time": "2025-07-30T13:38:55.107416",
     "exception": false,
     "start_time": "2025-07-30T13:38:55.085310",
     "status": "completed"
    },
    "tags": []
   },
   "outputs": [
    {
     "name": "stdout",
     "output_type": "stream",
     "text": [
      "   Id  MSSubClass MSZoning  LotFrontage  LotArea Street Alley LotShape  \\\n",
      "0   1          60       RL         65.0     8450   Pave   NaN      Reg   \n",
      "1   2          20       RL         80.0     9600   Pave   NaN      Reg   \n",
      "2   3          60       RL         68.0    11250   Pave   NaN      IR1   \n",
      "3   4          70       RL         60.0     9550   Pave   NaN      IR1   \n",
      "4   5          60       RL         84.0    14260   Pave   NaN      IR1   \n",
      "\n",
      "  LandContour Utilities  ... BsmtFinType1_score BsmtFinType2_score  \\\n",
      "0         Lvl    AllPub  ...                  6                  1   \n",
      "1         Lvl    AllPub  ...                  5                  1   \n",
      "2         Lvl    AllPub  ...                  6                  1   \n",
      "3         Lvl    AllPub  ...                  5                  1   \n",
      "4         Lvl    AllPub  ...                  6                  1   \n",
      "\n",
      "  BasementScore GarageScore TotalArea AgeOfHouse YearsSinceRemod  TotalBath  \\\n",
      "0            15           8      2566          5               5        2.5   \n",
      "1            17           8      2524         31              31        2.0   \n",
      "2            16           8      2706          7               6        2.5   \n",
      "3            14           7      2473         91              36        1.0   \n",
      "4            17           8      3343          8               8        2.5   \n",
      "\n",
      "   IsRemodeled  HasPorch  \n",
      "0            0         1  \n",
      "1            0         0  \n",
      "2            1         1  \n",
      "3            1         1  \n",
      "4            0         1  \n",
      "\n",
      "[5 rows x 172 columns]\n"
     ]
    }
   ],
   "source": [
    "print (df.head())"
   ]
  },
  {
   "cell_type": "code",
   "execution_count": 17,
   "id": "02b49e67",
   "metadata": {
    "execution": {
     "iopub.execute_input": "2025-07-30T13:38:55.119055Z",
     "iopub.status.busy": "2025-07-30T13:38:55.118776Z",
     "iopub.status.idle": "2025-07-30T13:38:55.201140Z",
     "shell.execute_reply": "2025-07-30T13:38:55.200103Z"
    },
    "papermill": {
     "duration": 0.090028,
     "end_time": "2025-07-30T13:38:55.202719",
     "exception": false,
     "start_time": "2025-07-30T13:38:55.112691",
     "status": "completed"
    },
    "tags": []
   },
   "outputs": [
    {
     "name": "stdout",
     "output_type": "stream",
     "text": [
      "OverallQual            0.790982\n",
      "TotalArea              0.778959\n",
      "GrLivArea              0.708624\n",
      "GarageCars             0.640409\n",
      "GarageArea             0.623431\n",
      "TotalBsmtSF            0.613581\n",
      "1stFlrSF               0.605852\n",
      "TotalBath              0.597966\n",
      "BsmtQual_score         0.585207\n",
      "FullBath               0.560664\n",
      "TotRmsAbvGrd           0.533723\n",
      "AgeOfHouse             0.523350\n",
      "YearBuilt              0.522897\n",
      "YearsSinceRemod        0.509079\n",
      "YearRemodAdd           0.507101\n",
      "MasVnrArea             0.477493\n",
      "missing_FireplaceQu    0.471908\n",
      "Fireplaces             0.466929\n",
      "BasementScore          0.449858\n",
      "GarageScore            0.434682\n",
      "Name: SalePrice, dtype: float64\n"
     ]
    }
   ],
   "source": [
    "# Only use numerical features\n",
    "numerical_df = df.select_dtypes(include=['int64', 'float64'])\n",
    "\n",
    "# Get absolute correlation with target\n",
    "correlation = numerical_df.corr()['SalePrice'].abs().sort_values(ascending=False)\n",
    "\n",
    "# Top N correlated features\n",
    "top_features = correlation[1:21]  # [1:] to exclude 'SalePrice' itself\n",
    "print(top_features)\n"
   ]
  },
  {
   "cell_type": "code",
   "execution_count": 18,
   "id": "6a2d6a0b",
   "metadata": {
    "execution": {
     "iopub.execute_input": "2025-07-30T13:38:55.214670Z",
     "iopub.status.busy": "2025-07-30T13:38:55.214401Z",
     "iopub.status.idle": "2025-07-30T13:38:55.236817Z",
     "shell.execute_reply": "2025-07-30T13:38:55.235830Z"
    },
    "papermill": {
     "duration": 0.030473,
     "end_time": "2025-07-30T13:38:55.238719",
     "exception": false,
     "start_time": "2025-07-30T13:38:55.208246",
     "status": "completed"
    },
    "tags": []
   },
   "outputs": [],
   "source": [
    "selected_features = top_features.index.tolist()\n",
    "X = df[selected_features]\n",
    "y = np.log1p(df['SalePrice'])\n",
    "X = X.fillna(X.median())"
   ]
  },
  {
   "cell_type": "code",
   "execution_count": 19,
   "id": "abc0b752",
   "metadata": {
    "execution": {
     "iopub.execute_input": "2025-07-30T13:38:55.251168Z",
     "iopub.status.busy": "2025-07-30T13:38:55.250880Z",
     "iopub.status.idle": "2025-07-30T13:38:55.260397Z",
     "shell.execute_reply": "2025-07-30T13:38:55.259122Z"
    },
    "papermill": {
     "duration": 0.017683,
     "end_time": "2025-07-30T13:38:55.262274",
     "exception": false,
     "start_time": "2025-07-30T13:38:55.244591",
     "status": "completed"
    },
    "tags": []
   },
   "outputs": [
    {
     "name": "stdout",
     "output_type": "stream",
     "text": [
      "OverallQual            0\n",
      "TotalArea              0\n",
      "BasementScore          0\n",
      "Fireplaces             0\n",
      "missing_FireplaceQu    0\n",
      "MasVnrArea             0\n",
      "YearRemodAdd           0\n",
      "YearsSinceRemod        0\n",
      "YearBuilt              0\n",
      "AgeOfHouse             0\n",
      "dtype: int64\n"
     ]
    }
   ],
   "source": [
    "print(X.isnull().sum().sort_values(ascending=False).head(10))"
   ]
  },
  {
   "cell_type": "markdown",
   "id": "2af1a326",
   "metadata": {
    "papermill": {
     "duration": 0.005422,
     "end_time": "2025-07-30T13:38:55.273641",
     "exception": false,
     "start_time": "2025-07-30T13:38:55.268219",
     "status": "completed"
    },
    "tags": []
   },
   "source": [
    "## Model Benchmarking"
   ]
  },
  {
   "cell_type": "code",
   "execution_count": 20,
   "id": "3e1896a1",
   "metadata": {
    "execution": {
     "iopub.execute_input": "2025-07-30T13:38:55.285900Z",
     "iopub.status.busy": "2025-07-30T13:38:55.285451Z",
     "iopub.status.idle": "2025-07-30T13:39:02.117842Z",
     "shell.execute_reply": "2025-07-30T13:39:02.116201Z"
    },
    "papermill": {
     "duration": 6.841353,
     "end_time": "2025-07-30T13:39:02.120385",
     "exception": false,
     "start_time": "2025-07-30T13:38:55.279032",
     "status": "completed"
    },
    "tags": []
   },
   "outputs": [
    {
     "name": "stdout",
     "output_type": "stream",
     "text": [
      "RMSE: 0.1589\n",
      "R² Score: 0.8647\n"
     ]
    },
    {
     "data": {
      "image/png": "[encoded data removed]",
      "text/plain": [
       "<Figure size 1000x600 with 1 Axes>"
      ]
     },
     "metadata": {},
     "output_type": "display_data"
    },
    {
     "name": "stdout",
     "output_type": "stream",
     "text": [
      "Cross-Validated RMSE: 0.1536\n"
     ]
    }
   ],
   "source": [
    "import pandas as pd\n",
    "import numpy as np\n",
    "from sklearn.ensemble import RandomForestRegressor\n",
    "from sklearn.model_selection import cross_val_score, train_test_split\n",
    "from sklearn.metrics import mean_squared_error, r2_score\n",
    "import matplotlib.pyplot as plt\n",
    "import seaborn as sns\n",
    "\n",
    "# --- 2. Train-Test Split (optional for local validation)\n",
    "X_train, X_val, y_train, y_val = train_test_split(X, y, test_size=0.2, random_state=42)\n",
    "\n",
    "# --- 3. Random Forest Model\n",
    "rf = RandomForestRegressor(\n",
    "    n_estimators=100,\n",
    "    max_depth=None,\n",
    "    random_state=42,\n",
    "    n_jobs=-1\n",
    ")\n",
    "\n",
    "rf.fit(X_train, y_train)\n",
    "\n",
    "# --- 4. Predictions\n",
    "y_pred = rf.predict(X_val)\n",
    "rmse = np.sqrt(mean_squared_error(y_val, y_pred))\n",
    "r2 = r2_score(y_val, y_pred)\n",
    "\n",
    "print(f\"RMSE: {rmse:.4f}\")\n",
    "print(f\"R² Score: {r2:.4f}\")\n",
    "\n",
    "# --- 5. Feature Importance Plot\n",
    "importances = rf.feature_importances_\n",
    "feat_importance = pd.Series(importances, index=X.columns).sort_values(ascending=False)\n",
    "\n",
    "plt.figure(figsize=(10,6))\n",
    "sns.barplot(x=feat_importance.values, y=feat_importance.index)\n",
    "plt.title(\"Feature Importance - Random Forest\")\n",
    "plt.tight_layout()\n",
    "plt.show()\n",
    "\n",
    "# --- 6. Cross-validated RMSE\n",
    "cv_scores = cross_val_score(rf, X, y, cv=5, scoring='neg_root_mean_squared_error')\n",
    "print(f\"Cross-Validated RMSE: {-cv_scores.mean():.4f}\")\n"
   ]
  },
  {
   "cell_type": "code",
   "execution_count": 21,
   "id": "94ac8ce9",
   "metadata": {
    "execution": {
     "iopub.execute_input": "2025-07-30T13:39:02.137272Z",
     "iopub.status.busy": "2025-07-30T13:39:02.136699Z",
     "iopub.status.idle": "2025-07-30T13:39:03.857452Z",
     "shell.execute_reply": "2025-07-30T13:39:03.855925Z"
    },
    "papermill": {
     "duration": 1.731538,
     "end_time": "2025-07-30T13:39:03.859486",
     "exception": false,
     "start_time": "2025-07-30T13:39:02.127948",
     "status": "completed"
    },
    "tags": []
   },
   "outputs": [
    {
     "name": "stdout",
     "output_type": "stream",
     "text": [
      "XGBoost RMSE: 0.1571\n",
      "XGBoost R² Score: 0.8678\n",
      "XGBoost Cross-Validated RMSE: 0.1467\n"
     ]
    }
   ],
   "source": [
    "from xgboost import XGBRegressor\n",
    "from sklearn.model_selection import cross_val_score\n",
    "\n",
    "# Select important features only\n",
    "selected_features = [\n",
    "    'OverallQual', 'TotalArea', 'GrLivArea', 'GarageCars', 'GarageArea',\n",
    "    'TotalBsmtSF', '1stFlrSF', 'TotalBath', 'BsmtQual_score',\n",
    "    'FullBath', 'TotRmsAbvGrd', 'AgeOfHouse', 'YearBuilt',\n",
    "    'YearsSinceRemod', 'YearRemodAdd', 'MasVnrArea',\n",
    "    'missing_FireplaceQu', 'Fireplaces', 'BasementScore', 'GarageScore'\n",
    "]\n",
    "\n",
    "X = df[selected_features].copy()\n",
    "y = np.log1p(df['SalePrice'])\n",
    "\n",
    "# Fill any missing values\n",
    "X = X.fillna(X.median())\n",
    "\n",
    "# Train-Test Split\n",
    "X_train, X_val, y_train, y_val = train_test_split(X, y, test_size=0.2, random_state=42)\n",
    "\n",
    "# XGBoost Model\n",
    "xgb = XGBRegressor(\n",
    "    n_estimators=200,\n",
    "    learning_rate=0.05,\n",
    "    max_depth=4,\n",
    "    random_state=42,\n",
    "    n_jobs=-1\n",
    ")\n",
    "\n",
    "xgb.fit(X_train, y_train)\n",
    "y_pred = xgb.predict(X_val)\n",
    "\n",
    "# Evaluation\n",
    "rmse = np.sqrt(mean_squared_error(y_val, y_pred))\n",
    "r2 = r2_score(y_val, y_pred)\n",
    "cv_rmse = -cross_val_score(xgb, X, y, cv=5, scoring='neg_root_mean_squared_error').mean()\n",
    "\n",
    "print(f\"XGBoost RMSE: {rmse:.4f}\")\n",
    "print(f\"XGBoost R² Score: {r2:.4f}\")\n",
    "print(f\"XGBoost Cross-Validated RMSE: {cv_rmse:.4f}\")\n"
   ]
  },
  {
   "cell_type": "code",
   "execution_count": 22,
   "id": "6546fd8a",
   "metadata": {
    "execution": {
     "iopub.execute_input": "2025-07-30T13:39:03.877813Z",
     "iopub.status.busy": "2025-07-30T13:39:03.877037Z",
     "iopub.status.idle": "2025-07-30T13:39:12.885670Z",
     "shell.execute_reply": "2025-07-30T13:39:12.884530Z"
    },
    "papermill": {
     "duration": 9.018942,
     "end_time": "2025-07-30T13:39:12.887111",
     "exception": false,
     "start_time": "2025-07-30T13:39:03.868169",
     "status": "completed"
    },
    "tags": []
   },
   "outputs": [
    {
     "name": "stdout",
     "output_type": "stream",
     "text": [
      "Gradient Boosting RMSE: 0.1551\n",
      "R² Score: 0.8711\n",
      "Cross-Validated RMSE: 0.1472\n",
      "Approx % Error: 0.00%\n"
     ]
    }
   ],
   "source": [
    "import numpy as np\n",
    "import pandas as pd\n",
    "from sklearn.ensemble import GradientBoostingRegressor\n",
    "from sklearn.model_selection import cross_val_score\n",
    "from sklearn.metrics import mean_squared_error, r2_score\n",
    "from sklearn.model_selection import train_test_split\n",
    "\n",
    "# -------------------- Feature Selection -------------------- #\n",
    "# Assume `top_features` is already computed using correlation with SalePrice\n",
    "selected_features = top_features.index.tolist()\n",
    "\n",
    "# Define X and y\n",
    "X = df[selected_features]\n",
    "y = np.log1p(df['SalePrice'])  # Log transform target for better modeling\n",
    "\n",
    "# Handle missing values\n",
    "X = X.fillna(X.median())\n",
    "\n",
    "# -------------------- Train-Test Split -------------------- #\n",
    "X_train, X_val, y_train, y_val = train_test_split(X, y, test_size=0.2, random_state=42)\n",
    "\n",
    "# -------------------- Model Training -------------------- #\n",
    "gb_model = GradientBoostingRegressor(\n",
    "    n_estimators=300,\n",
    "    learning_rate=0.05,\n",
    "    max_depth=4,\n",
    "    random_state=42\n",
    ")\n",
    "gb_model.fit(X_train, y_train)\n",
    "\n",
    "# -------------------- Evaluation -------------------- #\n",
    "y_pred = gb_model.predict(X_val)\n",
    "\n",
    "rmse = np.sqrt(mean_squared_error(y_val, y_pred))\n",
    "r2 = r2_score(y_val, y_pred)\n",
    "cv_rmse = -cross_val_score(gb_model, X, y, scoring='neg_root_mean_squared_error', cv=5).mean()\n",
    "\n",
    "print(f\"Gradient Boosting RMSE: {rmse:.4f}\")\n",
    "print(f\"R² Score: {r2:.4f}\")\n",
    "print(f\"Cross-Validated RMSE: {cv_rmse:.4f}\")\n",
    "print(f\"Approx % Error: {(rmse / np.expm1(y).mean()) * 100:.2f}%\")\n"
   ]
  },
  {
   "cell_type": "code",
   "execution_count": 23,
   "id": "52f3073e",
   "metadata": {
    "execution": {
     "iopub.execute_input": "2025-07-30T13:39:12.901917Z",
     "iopub.status.busy": "2025-07-30T13:39:12.901521Z",
     "iopub.status.idle": "2025-07-30T13:39:12.908944Z",
     "shell.execute_reply": "2025-07-30T13:39:12.907700Z"
    },
    "papermill": {
     "duration": 0.016743,
     "end_time": "2025-07-30T13:39:12.910730",
     "exception": false,
     "start_time": "2025-07-30T13:39:12.893987",
     "status": "completed"
    },
    "tags": []
   },
   "outputs": [
    {
     "name": "stdout",
     "output_type": "stream",
     "text": [
      "Real-World RMSE: 29312.67\n",
      "Approx % Error: 16.39%\n"
     ]
    }
   ],
   "source": [
    "y_val_inv = np.expm1(y_val)\n",
    "y_pred_inv = np.expm1(y_pred)\n",
    "\n",
    "actual_mean_price = y_val_inv.mean()\n",
    "rmse_real = np.sqrt(mean_squared_error(y_val_inv, y_pred_inv))\n",
    "error_percent = (rmse_real / actual_mean_price) * 100\n",
    "\n",
    "print(f\"Real-World RMSE: {rmse_real:.2f}\")\n",
    "print(f\"Approx % Error: {error_percent:.2f}%\")\n"
   ]
  },
  {
   "cell_type": "code",
   "execution_count": 24,
   "id": "aa4a7afe",
   "metadata": {
    "execution": {
     "iopub.execute_input": "2025-07-30T13:39:12.926241Z",
     "iopub.status.busy": "2025-07-30T13:39:12.925921Z",
     "iopub.status.idle": "2025-07-30T13:39:12.931301Z",
     "shell.execute_reply": "2025-07-30T13:39:12.930487Z"
    },
    "papermill": {
     "duration": 0.014552,
     "end_time": "2025-07-30T13:39:12.932814",
     "exception": false,
     "start_time": "2025-07-30T13:39:12.918262",
     "status": "completed"
    },
    "tags": []
   },
   "outputs": [],
   "source": [
    "# Ensure test_df has all selected_features from training\n",
    "for col in selected_features:\n",
    "    if col not in test_df.columns:\n",
    "        test_df[col] = 0  # Add missing column with default value\n"
   ]
  },
  {
   "cell_type": "code",
   "execution_count": 25,
   "id": "0aac6c04",
   "metadata": {
    "execution": {
     "iopub.execute_input": "2025-07-30T13:39:12.948022Z",
     "iopub.status.busy": "2025-07-30T13:39:12.947644Z",
     "iopub.status.idle": "2025-07-30T13:39:12.982175Z",
     "shell.execute_reply": "2025-07-30T13:39:12.981158Z"
    },
    "papermill": {
     "duration": 0.043995,
     "end_time": "2025-07-30T13:39:12.983922",
     "exception": false,
     "start_time": "2025-07-30T13:39:12.939927",
     "status": "completed"
    },
    "tags": []
   },
   "outputs": [
    {
     "name": "stdout",
     "output_type": "stream",
     "text": [
      "✅ submission.csv saved!\n"
     ]
    }
   ],
   "source": [
    "import numpy as np\n",
    "import pandas as pd\n",
    "\n",
    "# Ensure selected features match what was used in training\n",
    "selected_features = top_features.index.tolist()\n",
    "X_test = test_df[selected_features]\n",
    "\n",
    "# Handle missing values (same as in training)\n",
    "X_test = X_test.fillna(X_test.median())\n",
    "\n",
    "# Predict log prices\n",
    "log_preds = gb_model.predict(X_test)\n",
    "\n",
    "# Inverse log1p to get original scale\n",
    "final_preds = np.expm1(log_preds)\n",
    "\n",
    "# Create submission DataFrame\n",
    "submission = pd.DataFrame({\n",
    "    'Id': test_df['Id'],\n",
    "    'SalePrice': final_preds\n",
    "})\n",
    "\n",
    "# Save to CSV\n",
    "submission.to_csv('submission.csv', index=False)\n",
    "print(\"✅ submission.csv saved!\")\n"
   ]
  }
 ],
 "metadata": {
  "kaggle": {
   "accelerator": "none",
   "dataSources": [
    {
     "datasetId": 7974240,
     "sourceId": 12621280,
     "sourceType": "datasetVersion"
    }
   ],
   "dockerImageVersionId": 31089,
   "isGpuEnabled": false,
   "isInternetEnabled": true,
   "language": "python",
   "sourceType": "notebook"
  },
  "kernelspec": {
   "display_name": "Python 3",
   "language": "python",
   "name": "python3"
  },
  "language_info": {
   "codemirror_mode": {
    "name": "ipython",
    "version": 3
   },
   "file_extension": ".py",
   "mimetype": "text/x-python",
   "name": "python",
   "nbconvert_exporter": "python",
   "pygments_lexer": "ipython3",
   "version": "3.11.13"
  },
  "papermill": {
   "default_parameters": {},
   "duration": 26.744119,
   "end_time": "2025-07-30T13:39:13.813162",
   "environment_variables": {},
   "exception": null,
   "input_path": "__notebook__.ipynb",
   "output_path": "__notebook__.ipynb",
   "parameters": {},
   "start_time": "2025-07-30T13:38:47.069043",
   "version": "2.6.0"
  }
 },
 "nbformat": 4,
 "nbformat_minor": 5
}
