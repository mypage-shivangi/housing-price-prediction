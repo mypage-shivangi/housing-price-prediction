{
 "cells": [
  {
   "cell_type": "code",
   "execution_count": 1,
   "id": "948fe390",
   "metadata": {
    "execution": {
     "iopub.execute_input": "2025-06-23T13:00:23.090103Z",
     "iopub.status.busy": "2025-06-23T13:00:23.089879Z",
     "iopub.status.idle": "2025-06-23T13:00:24.443954Z",
     "shell.execute_reply": "2025-06-23T13:00:24.443110Z"
    },
    "papermill": {
     "duration": 1.360623,
     "end_time": "2025-06-23T13:00:24.445230",
     "exception": false,
     "start_time": "2025-06-23T13:00:23.084607",
     "status": "completed"
    },
    "tags": []
   },
   "outputs": [
    {
     "name": "stdout",
     "output_type": "stream",
     "text": [
      "/kaggle/input/ames-dataset/AmesHousing.csv\n",
      "/kaggle/input/ames-housing-dataset/AmesHousing.csv\n",
      "/kaggle/input/housing/train.csv\n",
      "/kaggle/input/housing/test.csv\n"
     ]
    }
   ],
   "source": [
    "# This Python 3 environment comes with many helpful analytics libraries installed\n",
    "# It is defined by the kaggle/python Docker image: https://github.com/kaggle/docker-python\n",
    "# For example, here's several helpful packages to load\n",
    "\n",
    "import numpy as np # linear algebra\n",
    "import pandas as pd # data processing, CSV file I/O (e.g. pd.read_csv)\n",
    "\n",
    "# Input data files are available in the read-only \"../input/\" directory\n",
    "# For example, running this (by clicking run or pressing Shift+Enter) will list all files under the input directory\n",
    "\n",
    "import os\n",
    "for dirname, _, filenames in os.walk('/kaggle/input'):\n",
    "    for filename in filenames:\n",
    "        print(os.path.join(dirname, filename))\n",
    "\n",
    "# You can write up to 20GB to the current directory (/kaggle/working/) that gets preserved as output when you create a version using \"Save & Run All\" \n",
    "# You can also write temporary files to /kaggle/temp/, but they won't be saved outside of the current session"
   ]
  },
  {
   "cell_type": "code",
   "execution_count": 2,
   "id": "181c483e",
   "metadata": {
    "execution": {
     "iopub.execute_input": "2025-06-23T13:00:24.454352Z",
     "iopub.status.busy": "2025-06-23T13:00:24.454004Z",
     "iopub.status.idle": "2025-06-23T13:00:24.544379Z",
     "shell.execute_reply": "2025-06-23T13:00:24.543692Z"
    },
    "papermill": {
     "duration": 0.095948,
     "end_time": "2025-06-23T13:00:24.545495",
     "exception": false,
     "start_time": "2025-06-23T13:00:24.449547",
     "status": "completed"
    },
    "tags": []
   },
   "outputs": [
    {
     "data": {
      "text/html": [
       "<div>\n",
       "<style scoped>\n",
       "    .dataframe tbody tr th:only-of-type {\n",
       "        vertical-align: middle;\n",
       "    }\n",
       "\n",
       "    .dataframe tbody tr th {\n",
       "        vertical-align: top;\n",
       "    }\n",
       "\n",
       "    .dataframe thead th {\n",
       "        text-align: right;\n",
       "    }\n",
       "</style>\n",
       "<table border=\"1\" class=\"dataframe\">\n",
       "  <thead>\n",
       "    <tr style=\"text-align: right;\">\n",
       "      <th></th>\n",
       "      <th>Id</th>\n",
       "      <th>MSSubClass</th>\n",
       "      <th>MSZoning</th>\n",
       "      <th>LotFrontage</th>\n",
       "      <th>LotArea</th>\n",
       "      <th>Street</th>\n",
       "      <th>Alley</th>\n",
       "      <th>LotShape</th>\n",
       "      <th>LandContour</th>\n",
       "      <th>Utilities</th>\n",
       "      <th>...</th>\n",
       "      <th>PoolArea</th>\n",
       "      <th>PoolQC</th>\n",
       "      <th>Fence</th>\n",
       "      <th>MiscFeature</th>\n",
       "      <th>MiscVal</th>\n",
       "      <th>MoSold</th>\n",
       "      <th>YrSold</th>\n",
       "      <th>SaleType</th>\n",
       "      <th>SaleCondition</th>\n",
       "      <th>SalePrice</th>\n",
       "    </tr>\n",
       "  </thead>\n",
       "  <tbody>\n",
       "    <tr>\n",
       "      <th>0</th>\n",
       "      <td>1</td>\n",
       "      <td>60</td>\n",
       "      <td>RL</td>\n",
       "      <td>65.0</td>\n",
       "      <td>8450</td>\n",
       "      <td>Pave</td>\n",
       "      <td>NaN</td>\n",
       "      <td>Reg</td>\n",
       "      <td>Lvl</td>\n",
       "      <td>AllPub</td>\n",
       "      <td>...</td>\n",
       "      <td>0</td>\n",
       "      <td>NaN</td>\n",
       "      <td>NaN</td>\n",
       "      <td>NaN</td>\n",
       "      <td>0</td>\n",
       "      <td>2</td>\n",
       "      <td>2008</td>\n",
       "      <td>WD</td>\n",
       "      <td>Normal</td>\n",
       "      <td>208500</td>\n",
       "    </tr>\n",
       "    <tr>\n",
       "      <th>1</th>\n",
       "      <td>2</td>\n",
       "      <td>20</td>\n",
       "      <td>RL</td>\n",
       "      <td>80.0</td>\n",
       "      <td>9600</td>\n",
       "      <td>Pave</td>\n",
       "      <td>NaN</td>\n",
       "      <td>Reg</td>\n",
       "      <td>Lvl</td>\n",
       "      <td>AllPub</td>\n",
       "      <td>...</td>\n",
       "      <td>0</td>\n",
       "      <td>NaN</td>\n",
       "      <td>NaN</td>\n",
       "      <td>NaN</td>\n",
       "      <td>0</td>\n",
       "      <td>5</td>\n",
       "      <td>2007</td>\n",
       "      <td>WD</td>\n",
       "      <td>Normal</td>\n",
       "      <td>181500</td>\n",
       "    </tr>\n",
       "    <tr>\n",
       "      <th>2</th>\n",
       "      <td>3</td>\n",
       "      <td>60</td>\n",
       "      <td>RL</td>\n",
       "      <td>68.0</td>\n",
       "      <td>11250</td>\n",
       "      <td>Pave</td>\n",
       "      <td>NaN</td>\n",
       "      <td>IR1</td>\n",
       "      <td>Lvl</td>\n",
       "      <td>AllPub</td>\n",
       "      <td>...</td>\n",
       "      <td>0</td>\n",
       "      <td>NaN</td>\n",
       "      <td>NaN</td>\n",
       "      <td>NaN</td>\n",
       "      <td>0</td>\n",
       "      <td>9</td>\n",
       "      <td>2008</td>\n",
       "      <td>WD</td>\n",
       "      <td>Normal</td>\n",
       "      <td>223500</td>\n",
       "    </tr>\n",
       "    <tr>\n",
       "      <th>3</th>\n",
       "      <td>4</td>\n",
       "      <td>70</td>\n",
       "      <td>RL</td>\n",
       "      <td>60.0</td>\n",
       "      <td>9550</td>\n",
       "      <td>Pave</td>\n",
       "      <td>NaN</td>\n",
       "      <td>IR1</td>\n",
       "      <td>Lvl</td>\n",
       "      <td>AllPub</td>\n",
       "      <td>...</td>\n",
       "      <td>0</td>\n",
       "      <td>NaN</td>\n",
       "      <td>NaN</td>\n",
       "      <td>NaN</td>\n",
       "      <td>0</td>\n",
       "      <td>2</td>\n",
       "      <td>2006</td>\n",
       "      <td>WD</td>\n",
       "      <td>Abnorml</td>\n",
       "      <td>140000</td>\n",
       "    </tr>\n",
       "    <tr>\n",
       "      <th>4</th>\n",
       "      <td>5</td>\n",
       "      <td>60</td>\n",
       "      <td>RL</td>\n",
       "      <td>84.0</td>\n",
       "      <td>14260</td>\n",
       "      <td>Pave</td>\n",
       "      <td>NaN</td>\n",
       "      <td>IR1</td>\n",
       "      <td>Lvl</td>\n",
       "      <td>AllPub</td>\n",
       "      <td>...</td>\n",
       "      <td>0</td>\n",
       "      <td>NaN</td>\n",
       "      <td>NaN</td>\n",
       "      <td>NaN</td>\n",
       "      <td>0</td>\n",
       "      <td>12</td>\n",
       "      <td>2008</td>\n",
       "      <td>WD</td>\n",
       "      <td>Normal</td>\n",
       "      <td>250000</td>\n",
       "    </tr>\n",
       "  </tbody>\n",
       "</table>\n",
       "<p>5 rows × 81 columns</p>\n",
       "</div>"
      ],
      "text/plain": [
       "   Id  MSSubClass MSZoning  LotFrontage  LotArea Street Alley LotShape  \\\n",
       "0   1          60       RL         65.0     8450   Pave   NaN      Reg   \n",
       "1   2          20       RL         80.0     9600   Pave   NaN      Reg   \n",
       "2   3          60       RL         68.0    11250   Pave   NaN      IR1   \n",
       "3   4          70       RL         60.0     9550   Pave   NaN      IR1   \n",
       "4   5          60       RL         84.0    14260   Pave   NaN      IR1   \n",
       "\n",
       "  LandContour Utilities  ... PoolArea PoolQC Fence MiscFeature MiscVal MoSold  \\\n",
       "0         Lvl    AllPub  ...        0    NaN   NaN         NaN       0      2   \n",
       "1         Lvl    AllPub  ...        0    NaN   NaN         NaN       0      5   \n",
       "2         Lvl    AllPub  ...        0    NaN   NaN         NaN       0      9   \n",
       "3         Lvl    AllPub  ...        0    NaN   NaN         NaN       0      2   \n",
       "4         Lvl    AllPub  ...        0    NaN   NaN         NaN       0     12   \n",
       "\n",
       "  YrSold  SaleType  SaleCondition  SalePrice  \n",
       "0   2008        WD         Normal     208500  \n",
       "1   2007        WD         Normal     181500  \n",
       "2   2008        WD         Normal     223500  \n",
       "3   2006        WD        Abnorml     140000  \n",
       "4   2008        WD         Normal     250000  \n",
       "\n",
       "[5 rows x 81 columns]"
      ]
     },
     "execution_count": 2,
     "metadata": {},
     "output_type": "execute_result"
    }
   ],
   "source": [
    "train_df = pd.read_csv('/kaggle/input/housing/train.csv')\n",
    "test_df = pd.read_csv('/kaggle/input/housing/test.csv')\n",
    "\n",
    "train_df.head()\n"
   ]
  },
  {
   "cell_type": "code",
   "execution_count": 3,
   "id": "e7e63cee",
   "metadata": {
    "execution": {
     "iopub.execute_input": "2025-06-23T13:00:24.554503Z",
     "iopub.status.busy": "2025-06-23T13:00:24.553837Z",
     "iopub.status.idle": "2025-06-23T13:00:24.561498Z",
     "shell.execute_reply": "2025-06-23T13:00:24.560965Z"
    },
    "papermill": {
     "duration": 0.013217,
     "end_time": "2025-06-23T13:00:24.562617",
     "exception": false,
     "start_time": "2025-06-23T13:00:24.549400",
     "status": "completed"
    },
    "tags": []
   },
   "outputs": [
    {
     "name": "stdout",
     "output_type": "stream",
     "text": [
      "['LotFrontage', 'Alley', 'MasVnrType', 'MasVnrArea', 'BsmtQual', 'BsmtCond', 'BsmtExposure', 'BsmtFinType1', 'BsmtFinType2', 'Electrical', 'FireplaceQu', 'GarageType', 'GarageYrBlt', 'GarageFinish', 'GarageQual', 'GarageCond', 'PoolQC', 'Fence', 'MiscFeature']\n"
     ]
    }
   ],
   "source": [
    "missing_cols = train_df.columns[train_df.isnull().any()]\n",
    "print(missing_cols.tolist())\n"
   ]
  },
  {
   "cell_type": "code",
   "execution_count": 4,
   "id": "02fdcfc2",
   "metadata": {
    "execution": {
     "iopub.execute_input": "2025-06-23T13:00:24.573012Z",
     "iopub.status.busy": "2025-06-23T13:00:24.572834Z",
     "iopub.status.idle": "2025-06-23T13:00:26.742135Z",
     "shell.execute_reply": "2025-06-23T13:00:26.741437Z"
    },
    "papermill": {
     "duration": 2.178757,
     "end_time": "2025-06-23T13:00:26.745261",
     "exception": false,
     "start_time": "2025-06-23T13:00:24.566504",
     "status": "completed"
    },
    "tags": []
   },
   "outputs": [
    {
     "data": {
      "text/plain": [
       "<Axes: >"
      ]
     },
     "execution_count": 4,
     "metadata": {},
     "output_type": "execute_result"
    },
    {
     "data": {
      "image/png": "[encoded data removed]",
      "text/plain": [
       "<Figure size 1000x800 with 2 Axes>"
      ]
     },
     "metadata": {},
     "output_type": "display_data"
    }
   ],
   "source": [
    "import pandas as pd\n",
    "import missingno as msno\n",
    "msno.heatmap(train_df,figsize=(10,8))"
   ]
  },
  {
   "cell_type": "code",
   "execution_count": 5,
   "id": "eccda3af",
   "metadata": {
    "execution": {
     "iopub.execute_input": "2025-06-23T13:00:26.760614Z",
     "iopub.status.busy": "2025-06-23T13:00:26.760262Z",
     "iopub.status.idle": "2025-06-23T13:00:26.778485Z",
     "shell.execute_reply": "2025-06-23T13:00:26.777664Z"
    },
    "papermill": {
     "duration": 0.027033,
     "end_time": "2025-06-23T13:00:26.779621",
     "exception": false,
     "start_time": "2025-06-23T13:00:26.752588",
     "status": "completed"
    },
    "tags": []
   },
   "outputs": [
    {
     "name": "stdout",
     "output_type": "stream",
     "text": [
      "GarageType      0\n",
      "GarageFinish    0\n",
      "GarageQual      0\n",
      "GarageCond      0\n",
      "BsmtQual        0\n",
      "BsmtCond        0\n",
      "BsmtExposure    0\n",
      "BsmtFinType1    0\n",
      "BsmtFinType2    0\n",
      "FireplaceQu     0\n",
      "MasVnrType      0\n",
      "MasVnrArea      0\n",
      "PoolQC          0\n",
      "Fence           0\n",
      "Alley           0\n",
      "MiscFeature     0\n",
      "dtype: int64\n"
     ]
    }
   ],
   "source": [
    "import pandas as pd\n",
    "\n",
    "# Example: Load your dataset\n",
    "#df = train_df\n",
    "df=train_df\n",
    "\n",
    "# 🚧 Garage-related features (strongly correlated in missingness)\n",
    "garage_features = ['GarageType', 'GarageFinish', 'GarageQual', 'GarageCond']\n",
    "\n",
    "# Fill missing with 'None' or 'NoGarage' depending on logic\n",
    "for col in garage_features:\n",
    "    df[col] = df[col].fillna('NoGarage')\n",
    "\n",
    "# 🚧 Basement-related features\n",
    "basement_features = ['BsmtQual', 'BsmtCond', 'BsmtExposure', 'BsmtFinType1', 'BsmtFinType2']\n",
    "\n",
    "for col in basement_features:\n",
    "    df[col] = df[col].fillna('NoBasement')\n",
    "\n",
    "# 🚧 Fireplace (single feature but high missing rate)\n",
    "df['FireplaceQu'] = df['FireplaceQu'].fillna('NoFireplace')\n",
    "\n",
    "# 🚧 Masonry veneer (MasVnr) group\n",
    "df['MasVnrType'] = df['MasVnrType'].fillna('None')\n",
    "df['MasVnrArea'] = df['MasVnrArea'].fillna(0)\n",
    "\n",
    "# 🚧 Pool, Fence, Alley, Misc\n",
    "df['PoolQC'] = df['PoolQC'].fillna('NoPool')\n",
    "df['Fence'] = df['Fence'].fillna('NoFence')\n",
    "df['Alley'] = df['Alley'].fillna('NoAlley')\n",
    "df['MiscFeature'] = df['MiscFeature'].fillna('None')\n",
    "\n",
    "# ✅ Optional: Confirm that none of these groups have missing values now\n",
    "print(df[garage_features + basement_features + ['FireplaceQu', 'MasVnrType', 'MasVnrArea', \n",
    "                                                'PoolQC', 'Fence', 'Alley', 'MiscFeature']].isnull().sum())\n"
   ]
  },
  {
   "cell_type": "code",
   "execution_count": 6,
   "id": "ce5449c1",
   "metadata": {
    "execution": {
     "iopub.execute_input": "2025-06-23T13:00:26.794621Z",
     "iopub.status.busy": "2025-06-23T13:00:26.794190Z",
     "iopub.status.idle": "2025-06-23T13:00:26.806711Z",
     "shell.execute_reply": "2025-06-23T13:00:26.805956Z"
    },
    "papermill": {
     "duration": 0.020959,
     "end_time": "2025-06-23T13:00:26.807872",
     "exception": false,
     "start_time": "2025-06-23T13:00:26.786913",
     "status": "completed"
    },
    "tags": []
   },
   "outputs": [
    {
     "name": "stdout",
     "output_type": "stream",
     "text": [
      "['Electrical']\n"
     ]
    }
   ],
   "source": [
    "cat_cols = df.select_dtypes(include=['object', 'category']).columns\n",
    "missing_cat = [col for col in cat_cols if df[col].isnull().sum() > 0]\n",
    "print(missing_cat)\n"
   ]
  },
  {
   "cell_type": "code",
   "execution_count": 7,
   "id": "301a42ab",
   "metadata": {
    "execution": {
     "iopub.execute_input": "2025-06-23T13:00:26.822234Z",
     "iopub.status.busy": "2025-06-23T13:00:26.822032Z",
     "iopub.status.idle": "2025-06-23T13:00:26.825953Z",
     "shell.execute_reply": "2025-06-23T13:00:26.825418Z"
    },
    "papermill": {
     "duration": 0.012117,
     "end_time": "2025-06-23T13:00:26.826894",
     "exception": false,
     "start_time": "2025-06-23T13:00:26.814777",
     "status": "completed"
    },
    "tags": []
   },
   "outputs": [],
   "source": [
    "for col in missing_cat:\n",
    "    df[col] = df[col].fillna('Missing')\n"
   ]
  },
  {
   "cell_type": "code",
   "execution_count": 8,
   "id": "1f1fd3c9",
   "metadata": {
    "execution": {
     "iopub.execute_input": "2025-06-23T13:00:26.841743Z",
     "iopub.status.busy": "2025-06-23T13:00:26.841496Z",
     "iopub.status.idle": "2025-06-23T13:00:26.851705Z",
     "shell.execute_reply": "2025-06-23T13:00:26.851026Z"
    },
    "papermill": {
     "duration": 0.01882,
     "end_time": "2025-06-23T13:00:26.852840",
     "exception": false,
     "start_time": "2025-06-23T13:00:26.834020",
     "status": "completed"
    },
    "tags": []
   },
   "outputs": [
    {
     "data": {
      "text/plain": [
       "LotFrontage     259\n",
       "GarageYrBlt      81\n",
       "GarageType        0\n",
       "FireplaceQu       0\n",
       "Fireplaces        0\n",
       "Functional        0\n",
       "TotRmsAbvGrd      0\n",
       "KitchenQual       0\n",
       "KitchenAbvGr      0\n",
       "BedroomAbvGr      0\n",
       "SalePrice         0\n",
       "FullBath          0\n",
       "BsmtHalfBath      0\n",
       "BsmtFullBath      0\n",
       "GrLivArea         0\n",
       "dtype: int64"
      ]
     },
     "execution_count": 8,
     "metadata": {},
     "output_type": "execute_result"
    }
   ],
   "source": [
    "df.isnull().sum().sort_values(ascending=False).head(15)"
   ]
  },
  {
   "cell_type": "code",
   "execution_count": 9,
   "id": "7de6e74c",
   "metadata": {
    "execution": {
     "iopub.execute_input": "2025-06-23T13:00:26.867582Z",
     "iopub.status.busy": "2025-06-23T13:00:26.867345Z",
     "iopub.status.idle": "2025-06-23T13:00:26.882956Z",
     "shell.execute_reply": "2025-06-23T13:00:26.882228Z"
    },
    "papermill": {
     "duration": 0.024195,
     "end_time": "2025-06-23T13:00:26.884060",
     "exception": false,
     "start_time": "2025-06-23T13:00:26.859865",
     "status": "completed"
    },
    "tags": []
   },
   "outputs": [],
   "source": [
    "df['LotFrontage'] = df.groupby('Neighborhood')['LotFrontage'].transform(lambda x: x.fillna(x.median()))\n",
    "df['GarageYrBlt'] = df['GarageYrBlt'].fillna(df['YearBuilt'])\n"
   ]
  },
  {
   "cell_type": "code",
   "execution_count": 10,
   "id": "79895828",
   "metadata": {
    "execution": {
     "iopub.execute_input": "2025-06-23T13:00:26.898705Z",
     "iopub.status.busy": "2025-06-23T13:00:26.898473Z",
     "iopub.status.idle": "2025-06-23T13:00:26.907688Z",
     "shell.execute_reply": "2025-06-23T13:00:26.907174Z"
    },
    "papermill": {
     "duration": 0.017662,
     "end_time": "2025-06-23T13:00:26.908727",
     "exception": false,
     "start_time": "2025-06-23T13:00:26.891065",
     "status": "completed"
    },
    "tags": []
   },
   "outputs": [
    {
     "data": {
      "text/plain": [
       "SalePrice        0\n",
       "PavedDrive       0\n",
       "WoodDeckSF       0\n",
       "OpenPorchSF      0\n",
       "EnclosedPorch    0\n",
       "3SsnPorch        0\n",
       "ScreenPorch      0\n",
       "PoolArea         0\n",
       "PoolQC           0\n",
       "Utilities        0\n",
       "LotConfig        0\n",
       "LandSlope        0\n",
       "Neighborhood     0\n",
       "Condition1       0\n",
       "Condition2       0\n",
       "dtype: int64"
      ]
     },
     "execution_count": 10,
     "metadata": {},
     "output_type": "execute_result"
    }
   ],
   "source": [
    "df.isnull().sum().sort_values(ascending=False).head(15)"
   ]
  },
  {
   "cell_type": "code",
   "execution_count": 11,
   "id": "5673547f",
   "metadata": {
    "execution": {
     "iopub.execute_input": "2025-06-23T13:00:26.923723Z",
     "iopub.status.busy": "2025-06-23T13:00:26.923469Z",
     "iopub.status.idle": "2025-06-23T13:00:26.928710Z",
     "shell.execute_reply": "2025-06-23T13:00:26.928214Z"
    },
    "papermill": {
     "duration": 0.013573,
     "end_time": "2025-06-23T13:00:26.929713",
     "exception": false,
     "start_time": "2025-06-23T13:00:26.916140",
     "status": "completed"
    },
    "tags": []
   },
   "outputs": [],
   "source": [
    "def encode_features(df):\n",
    "    \"\"\"\n",
    "    Encodes categorical variables:\n",
    "    - Applies ordinal mapping to quality-related features\n",
    "    - Applies one-hot encoding to nominal categorical features\n",
    "    \"\"\"\n",
    "    # 1. Ordinal features with logical ranks\n",
    "    quality_map = {'None': 0, 'Po': 1, 'Fa': 2, 'TA': 3, 'Gd': 4, 'Ex': 5}\n",
    "    ordinal_cols = [\n",
    "        'Exter Qual', 'Exter Cond', 'Bsmt Qual', 'Bsmt Cond',\n",
    "        'Heating QC', 'Kitchen Qual', 'Fireplace Qu',\n",
    "        'Garage Qual', 'Garage Cond', 'Pool QC'\n",
    "    ]\n",
    "    for col in ordinal_cols:\n",
    "        if col in df.columns:\n",
    "            df[col] = df[col].map(quality_map)\n",
    "\n",
    "    # 2. One-hot encoding for nominal features\n",
    "    nominal_cols = ['MSZoning', 'LotShape', 'LandContour', 'LotConfig', 'LandSlope',\n",
    "       'Condition1', 'Condition2', 'BldgType', 'HouseStyle', 'RoofStyle',\n",
    "       'RoofMatl', 'Exterior1st', 'Exterior2nd', 'MasVnrType', 'ExterQual',\n",
    "       'ExterCond', 'BsmtQual', 'BsmtCond', 'BsmtExposure', 'BsmtFinType1',\n",
    "       'BsmtFinType2', 'HeatingQC', 'CentralAir', 'KitchenQual', 'FireplaceQu',\n",
    "       'GarageType', 'GarageFinish', 'GarageQual', 'GarageCond', 'PavedDrive',\n",
    "       'PoolQC', 'MiscFeature', 'SaleType', 'SaleCondition','Street', 'Alley', 'Utilities', 'Neighborhood', 'Foundation', 'Heating',\n",
    "       'Electrical', 'Functional', 'Fence']\n",
    "    df = pd.get_dummies(df, columns=[col for col in nominal_cols if col in df.columns], drop_first=True)\n",
    "\n",
    "    return df"
   ]
  },
  {
   "cell_type": "code",
   "execution_count": 12,
   "id": "95729da7",
   "metadata": {
    "execution": {
     "iopub.execute_input": "2025-06-23T13:00:26.944795Z",
     "iopub.status.busy": "2025-06-23T13:00:26.944625Z",
     "iopub.status.idle": "2025-06-23T13:00:26.973890Z",
     "shell.execute_reply": "2025-06-23T13:00:26.973198Z"
    },
    "papermill": {
     "duration": 0.037955,
     "end_time": "2025-06-23T13:00:26.974953",
     "exception": false,
     "start_time": "2025-06-23T13:00:26.936998",
     "status": "completed"
    },
    "tags": []
   },
   "outputs": [],
   "source": [
    "df = encode_features(df)"
   ]
  },
  {
   "cell_type": "code",
   "execution_count": 13,
   "id": "3788faa7",
   "metadata": {
    "execution": {
     "iopub.execute_input": "2025-06-23T13:00:26.989452Z",
     "iopub.status.busy": "2025-06-23T13:00:26.989252Z",
     "iopub.status.idle": "2025-06-23T13:00:26.995396Z",
     "shell.execute_reply": "2025-06-23T13:00:26.994773Z"
    },
    "papermill": {
     "duration": 0.014646,
     "end_time": "2025-06-23T13:00:26.996466",
     "exception": false,
     "start_time": "2025-06-23T13:00:26.981820",
     "status": "completed"
    },
    "tags": []
   },
   "outputs": [
    {
     "name": "stdout",
     "output_type": "stream",
     "text": [
      "Index([], dtype='object')\n",
      "0\n"
     ]
    }
   ],
   "source": [
    "print(df.select_dtypes(include='object').columns)  # Should be empty\n",
    "print(df.isnull().sum().sum()) "
   ]
  },
  {
   "cell_type": "code",
   "execution_count": 14,
   "id": "b7b16031",
   "metadata": {
    "execution": {
     "iopub.execute_input": "2025-06-23T13:00:27.012126Z",
     "iopub.status.busy": "2025-06-23T13:00:27.011956Z",
     "iopub.status.idle": "2025-06-23T13:00:27.294664Z",
     "shell.execute_reply": "2025-06-23T13:00:27.294047Z"
    },
    "papermill": {
     "duration": 0.291777,
     "end_time": "2025-06-23T13:00:27.295928",
     "exception": false,
     "start_time": "2025-06-23T13:00:27.004151",
     "status": "completed"
    },
    "tags": []
   },
   "outputs": [
    {
     "name": "stderr",
     "output_type": "stream",
     "text": [
      "/usr/local/lib/python3.11/dist-packages/seaborn/_oldcore.py:1119: FutureWarning: use_inf_as_na option is deprecated and will be removed in a future version. Convert inf values to NaN before operating instead.\n",
      "  with pd.option_context('mode.use_inf_as_na', True):\n"
     ]
    },
    {
     "data": {
      "image/png": "[encoded data removed]",
      "text/plain": [
       "<Figure size 640x480 with 1 Axes>"
      ]
     },
     "metadata": {},
     "output_type": "display_data"
    }
   ],
   "source": [
    "import seaborn as sns\n",
    "import matplotlib.pyplot as plt\n",
    "\n",
    "sns.histplot(df['SalePrice'], kde=True)\n",
    "plt.title('Target Distribution')\n",
    "plt.show()\n"
   ]
  },
  {
   "cell_type": "code",
   "execution_count": 15,
   "id": "a3668e54",
   "metadata": {
    "execution": {
     "iopub.execute_input": "2025-06-23T13:00:27.313938Z",
     "iopub.status.busy": "2025-06-23T13:00:27.313376Z",
     "iopub.status.idle": "2025-06-23T13:00:27.321580Z",
     "shell.execute_reply": "2025-06-23T13:00:27.321063Z"
    },
    "papermill": {
     "duration": 0.017927,
     "end_time": "2025-06-23T13:00:27.322633",
     "exception": false,
     "start_time": "2025-06-23T13:00:27.304706",
     "status": "completed"
    },
    "tags": []
   },
   "outputs": [],
   "source": [
    "# Identify outliers\n",
    "from scipy import stats\n",
    "\n",
    "z_scores = np.abs(stats.zscore(df['SalePrice']))\n",
    "df_no_outliers = df[z_scores < 3]  # keep only within 3 standard deviations\n",
    "\n",
    "# Optionally winsorize extreme ends\n",
    "from scipy.stats.mstats import winsorize\n",
    "df['SalePrice_win'] = winsorize(df['SalePrice'], limits=[0.01, 0.01])\n"
   ]
  },
  {
   "cell_type": "code",
   "execution_count": 16,
   "id": "89b71784",
   "metadata": {
    "execution": {
     "iopub.execute_input": "2025-06-23T13:00:27.339128Z",
     "iopub.status.busy": "2025-06-23T13:00:27.338951Z",
     "iopub.status.idle": "2025-06-23T13:00:27.391307Z",
     "shell.execute_reply": "2025-06-23T13:00:27.390810Z"
    },
    "papermill": {
     "duration": 0.061661,
     "end_time": "2025-06-23T13:00:27.392318",
     "exception": false,
     "start_time": "2025-06-23T13:00:27.330657",
     "status": "completed"
    },
    "tags": []
   },
   "outputs": [],
   "source": [
    "# Try median instead of mean\n",
    "df.fillna(df.median(numeric_only=True), inplace=True)\n"
   ]
  },
  {
   "cell_type": "code",
   "execution_count": 17,
   "id": "5f4863b4",
   "metadata": {
    "execution": {
     "iopub.execute_input": "2025-06-23T13:00:27.408383Z",
     "iopub.status.busy": "2025-06-23T13:00:27.408183Z",
     "iopub.status.idle": "2025-06-23T13:00:27.414754Z",
     "shell.execute_reply": "2025-06-23T13:00:27.414229Z"
    },
    "papermill": {
     "duration": 0.015743,
     "end_time": "2025-06-23T13:00:27.415718",
     "exception": false,
     "start_time": "2025-06-23T13:00:27.399975",
     "status": "completed"
    },
    "tags": []
   },
   "outputs": [],
   "source": [
    "df['GrLivArea_sq'] = df['GrLivArea'] ** 2\n",
    "df['Log_LotArea'] = np.log1p(df['LotArea'])\n",
    "df['OverallQual_Binary'] = (df['OverallQual'] >= 7).astype(int)  # hard threshold\n"
   ]
  },
  {
   "cell_type": "code",
   "execution_count": 18,
   "id": "92ddc79a",
   "metadata": {
    "execution": {
     "iopub.execute_input": "2025-06-23T13:00:27.432300Z",
     "iopub.status.busy": "2025-06-23T13:00:27.432092Z",
     "iopub.status.idle": "2025-06-23T13:00:35.795975Z",
     "shell.execute_reply": "2025-06-23T13:00:35.795136Z"
    },
    "papermill": {
     "duration": 8.373649,
     "end_time": "2025-06-23T13:00:35.797319",
     "exception": false,
     "start_time": "2025-06-23T13:00:27.423670",
     "status": "completed"
    },
    "tags": []
   },
   "outputs": [
    {
     "name": "stdout",
     "output_type": "stream",
     "text": [
      "📊 RMSE (original SalePrice units) across models:\n",
      "Ridge         : 20339.28\n",
      "Lasso         : 29871.48\n",
      "BayesianRidge : 20935.92\n",
      "RandomForest  : 13732.69\n",
      "XGBoost       : 16221.05\n",
      "[LightGBM] [Warning] Found whitespace in feature_names, replace with underlines\n",
      "[LightGBM] [Info] Auto-choosing row-wise multi-threading, the overhead of testing was 0.002124 seconds.\n",
      "You can set `force_row_wise=true` to remove the overhead.\n",
      "And if memory is not enough, you can set `force_col_wise=true`.\n",
      "[LightGBM] [Info] Total Bins 5600\n",
      "[LightGBM] [Info] Number of data points in the train set: 1168, number of used features: 184\n",
      "[LightGBM] [Info] Start training from score 12.030658\n",
      "LightGBM      : 16802.34\n"
     ]
    }
   ],
   "source": [
    "import pandas as pd\n",
    "import numpy as np\n",
    "from sklearn.model_selection import train_test_split\n",
    "from sklearn.pipeline import make_pipeline\n",
    "from sklearn.preprocessing import StandardScaler\n",
    "from sklearn.linear_model import Ridge, Lasso, BayesianRidge\n",
    "from sklearn.ensemble import RandomForestRegressor\n",
    "from sklearn.metrics import mean_squared_error\n",
    "import lightgbm as lgb\n",
    "import xgboost as xgb\n",
    "\n",
    "# ========== 1. Feature Engineering ==========\n",
    "df['Qual_x_GrLivArea'] = df['OverallQual'] * df['GrLivArea']\n",
    "df['Qual_x_GarageCars'] = df['OverallQual'] * df['GarageCars']\n",
    "df['Qual_x_BsmtFinSF1'] = df['OverallQual'] * df['BsmtFinSF1']\n",
    "df['LargeHome_LowQual'] = ((df['GrLivArea'] > 1800) & (df['OverallQual'] <= 5)).astype(int)\n",
    "df['HighGarage_HighQual'] = ((df['GarageCars'] >= 3) & (df['OverallQual'] >= 8)).astype(int)\n",
    "df['BigBasement_HighQual'] = ((df['TotalBsmtSF'] > 1000) & (df['OverallQual'] >= 7)).astype(int)\n",
    "df['BsmtScore'] = df['BsmtFinSF1'] * (df['OverallQual'] / 10)\n",
    "df['TotalFinishedSqft'] = df['GrLivArea'] + df['BsmtFinSF1']\n",
    "df['AgeAtSale'] = df['YrSold'] - df['YearBuilt']\n",
    "df['GarageQualBoost'] = df['GarageArea'] * (df['OverallQual'] / 10)\n",
    "\n",
    "# ========== 2. Target Transformation ==========\n",
    "df['SalePrice_log'] = np.log1p(df['SalePrice'])\n",
    "\n",
    "# ========== 3. Setup Features and Target ==========\n",
    "target = 'SalePrice_log'\n",
    "new_feats = [\n",
    "    'Qual_x_GrLivArea', 'Qual_x_GarageCars', 'Qual_x_BsmtFinSF1',\n",
    "    'LargeHome_LowQual', 'HighGarage_HighQual', 'BigBasement_HighQual',\n",
    "    'BsmtScore', 'TotalFinishedSqft', 'AgeAtSale', 'GarageQualBoost'\n",
    "]\n",
    "\n",
    "X = df.drop(columns=['SalePrice', 'SalePrice_log'], errors='ignore').copy()\n",
    "X[new_feats] = df[new_feats]\n",
    "y = df[target]\n",
    "\n",
    "X_train, X_test, y_train, y_test = train_test_split(X, y, test_size=0.2, random_state=42)\n",
    "\n",
    "# ========== 4. Define and Benchmark Models ==========\n",
    "def rmse_log(y_true_log, y_pred_log):\n",
    "    return mean_squared_error(np.expm1(y_true_log), np.expm1(y_pred_log), squared=False)\n",
    "\n",
    "models = {\n",
    "    'Ridge': make_pipeline(StandardScaler(), Ridge(alpha=10)),\n",
    "    'Lasso': make_pipeline(StandardScaler(), Lasso(alpha=0.1)),\n",
    "    'BayesianRidge': make_pipeline(StandardScaler(), BayesianRidge()),\n",
    "    'RandomForest': RandomForestRegressor(n_estimators=100, random_state=42),\n",
    "    'XGBoost': xgb.XGBRegressor(n_estimators=100, learning_rate=0.05, random_state=42),\n",
    "    'LightGBM': lgb.LGBMRegressor(random_state=42)\n",
    "}\n",
    "\n",
    "print(\"📊 RMSE (original SalePrice units) across models:\")\n",
    "for name, model in models.items():\n",
    "    model.fit(X_train, y_train)\n",
    "    y_pred = model.predict(X_test)\n",
    "    score = rmse_log(y_test, y_pred)\n",
    "    print(f\"{name:<14}: {score:.2f}\")\n"
   ]
  },
  {
   "cell_type": "code",
   "execution_count": 19,
   "id": "2d184f8d",
   "metadata": {
    "execution": {
     "iopub.execute_input": "2025-06-23T13:00:35.816823Z",
     "iopub.status.busy": "2025-06-23T13:00:35.816354Z",
     "iopub.status.idle": "2025-06-23T13:00:49.880135Z",
     "shell.execute_reply": "2025-06-23T13:00:49.879569Z"
    },
    "papermill": {
     "duration": 14.073821,
     "end_time": "2025-06-23T13:00:49.881651",
     "exception": false,
     "start_time": "2025-06-23T13:00:35.807830",
     "status": "completed"
    },
    "tags": []
   },
   "outputs": [
    {
     "name": "stdout",
     "output_type": "stream",
     "text": [
      "📦 Stacked Model RMSE (Ridge meta): 14346.51\n"
     ]
    }
   ],
   "source": [
    "from sklearn.ensemble import StackingRegressor\n",
    "from sklearn.linear_model import Ridge\n",
    "from sklearn.pipeline import make_pipeline\n",
    "from sklearn.preprocessing import StandardScaler\n",
    "from sklearn.model_selection import train_test_split\n",
    "from sklearn.metrics import mean_squared_error\n",
    "import xgboost as xgb\n",
    "from sklearn.ensemble import RandomForestRegressor\n",
    "\n",
    "# Use your processed X and y (with engineered features and log-transformed target)\n",
    "X_train, X_test, y_train, y_test = train_test_split(X, y, test_size=0.2, random_state=42)\n",
    "\n",
    "# Define base models\n",
    "base_models = [\n",
    "    ('rf', RandomForestRegressor(n_estimators=100, random_state=42)),\n",
    "    ('xgb', xgb.XGBRegressor(n_estimators=100, learning_rate=0.05, random_state=42))\n",
    "]\n",
    "\n",
    "# Ridge as meta-learner\n",
    "stacked_model = StackingRegressor(\n",
    "    estimators=base_models,\n",
    "    final_estimator=make_pipeline(StandardScaler(), Ridge(alpha=8.29)),  # use tuned alpha here\n",
    "    passthrough=True,\n",
    "    cv=5\n",
    ")\n",
    "\n",
    "# Fit and evaluate\n",
    "stacked_model.fit(X_train, y_train)\n",
    "y_pred = stacked_model.predict(X_test)\n",
    "\n",
    "# Evaluate on original SalePrice scale\n",
    "rmse_stacked = mean_squared_error(np.expm1(y_test), np.expm1(y_pred), squared=False)\n",
    "print(f\"📦 Stacked Model RMSE (Ridge meta): {rmse_stacked:.2f}\")\n"
   ]
  },
  {
   "cell_type": "code",
   "execution_count": 20,
   "id": "e12a8cc2",
   "metadata": {
    "execution": {
     "iopub.execute_input": "2025-06-23T13:00:49.915224Z",
     "iopub.status.busy": "2025-06-23T13:00:49.914989Z",
     "iopub.status.idle": "2025-06-23T13:00:52.161930Z",
     "shell.execute_reply": "2025-06-23T13:00:52.161380Z"
    },
    "papermill": {
     "duration": 2.262037,
     "end_time": "2025-06-23T13:00:52.163293",
     "exception": false,
     "start_time": "2025-06-23T13:00:49.901256",
     "status": "completed"
    },
    "tags": []
   },
   "outputs": [],
   "source": [
    "# Fit RF to get importances\n",
    "rf = RandomForestRegressor(n_estimators=100, random_state=42)\n",
    "rf.fit(X_train, y_train)\n",
    "\n",
    "# Select top N features\n",
    "importances = pd.Series(rf.feature_importances_, index=X.columns)\n",
    "top_feats = importances.sort_values(ascending=False).head(100).index.tolist()\n",
    "\n",
    "# Reduce X\n",
    "X_train_reduced = X_train[top_feats]\n",
    "X_test_reduced = X_test[top_feats]\n"
   ]
  },
  {
   "cell_type": "code",
   "execution_count": 21,
   "id": "2c8aeacd",
   "metadata": {
    "execution": {
     "iopub.execute_input": "2025-06-23T13:00:52.181594Z",
     "iopub.status.busy": "2025-06-23T13:00:52.181004Z",
     "iopub.status.idle": "2025-06-23T13:01:06.375622Z",
     "shell.execute_reply": "2025-06-23T13:01:06.374865Z"
    },
    "papermill": {
     "duration": 14.204528,
     "end_time": "2025-06-23T13:01:06.376794",
     "exception": false,
     "start_time": "2025-06-23T13:00:52.172266",
     "status": "completed"
    },
    "tags": []
   },
   "outputs": [
    {
     "name": "stdout",
     "output_type": "stream",
     "text": [
      "🔧 Optimal RF weight: 0.000\n",
      "🎯 Final Blended RMSE: 12817.36\n"
     ]
    }
   ],
   "source": [
    "from sklearn.ensemble import RandomForestRegressor, StackingRegressor\n",
    "from sklearn.linear_model import Ridge\n",
    "from sklearn.pipeline import make_pipeline\n",
    "from sklearn.preprocessing import StandardScaler\n",
    "from sklearn.model_selection import train_test_split\n",
    "from sklearn.metrics import mean_squared_error\n",
    "from sklearn.inspection import permutation_importance\n",
    "import xgboost as xgb\n",
    "import pandas as pd\n",
    "import numpy as np\n",
    "from scipy.optimize import minimize\n",
    "\n",
    "# === Split full feature space ===\n",
    "X_train_full, X_test_full, y_train, y_test = train_test_split(X, y, test_size=0.2, random_state=42)\n",
    "\n",
    "# === Fit base models to get top features ===\n",
    "rf = RandomForestRegressor(n_estimators=100, random_state=42)\n",
    "rf.fit(X_train_full, y_train)\n",
    "\n",
    "xgb_model = xgb.XGBRegressor(n_estimators=200, random_state=42)\n",
    "xgb_model.fit(X_train_full, y_train)\n",
    "\n",
    "rf_top = pd.Series(rf.feature_importances_, index=X.columns).nlargest(60).index\n",
    "xgb_top = pd.Series(xgb_model.feature_importances_, index=X.columns).nlargest(60).index\n",
    "\n",
    "core_features = list(set(rf_top) & set(xgb_top))  # intersection of importance\n",
    "\n",
    "# === Reduce datasets ===\n",
    "X_core = X[core_features]\n",
    "X_train, X_test, y_train, y_test = train_test_split(X_core, y, test_size=0.2, random_state=42)\n",
    "\n",
    "# === Stack Models ===\n",
    "base_models = [\n",
    "    ('rf', RandomForestRegressor(n_estimators=200, max_depth=12, random_state=42)),\n",
    "    ('xgb', xgb.XGBRegressor(n_estimators=200, learning_rate=0.03, max_depth=4, subsample=0.8, random_state=42))\n",
    "]\n",
    "\n",
    "stacked_model = StackingRegressor(\n",
    "    estimators=base_models,\n",
    "    final_estimator=make_pipeline(StandardScaler(), Ridge(alpha=8.29)),\n",
    "    passthrough=True,\n",
    "    cv=5\n",
    ")\n",
    "\n",
    "# === Train stack + base RF separately ===\n",
    "stacked_model.fit(X_train, y_train)\n",
    "rf_final = RandomForestRegressor(n_estimators=200, random_state=42)\n",
    "rf_final.fit(X_train, y_train)\n",
    "\n",
    "# === Predict ===\n",
    "y_pred_stack = stacked_model.predict(X_test)\n",
    "y_pred_rf = rf_final.predict(X_test)\n",
    "\n",
    "# === Blend optimizer ===\n",
    "def blend_rmse(w):\n",
    "    blend = w * np.expm1(y_pred_rf) + (1 - w) * np.expm1(y_pred_stack)\n",
    "    return mean_squared_error(np.expm1(y_test), blend, squared=False)\n",
    "\n",
    "res = minimize(blend_rmse, x0=[0.5], bounds=[(0, 1)])\n",
    "w_opt = res.x[0]\n",
    "y_blend = w_opt * np.expm1(y_pred_rf) + (1 - w_opt) * np.expm1(y_pred_stack)\n",
    "\n",
    "print(f\"🔧 Optimal RF weight: {w_opt:.3f}\")\n",
    "print(f\"🎯 Final Blended RMSE: {mean_squared_error(np.expm1(y_test), y_blend, squared=False):.2f}\")\n"
   ]
  },
  {
   "cell_type": "code",
   "execution_count": 22,
   "id": "553f3c06",
   "metadata": {
    "execution": {
     "iopub.execute_input": "2025-06-23T13:01:06.394490Z",
     "iopub.status.busy": "2025-06-23T13:01:06.393900Z",
     "iopub.status.idle": "2025-06-23T13:01:16.972812Z",
     "shell.execute_reply": "2025-06-23T13:01:16.969316Z"
    },
    "papermill": {
     "duration": 10.58959,
     "end_time": "2025-06-23T13:01:16.974852",
     "exception": false,
     "start_time": "2025-06-23T13:01:06.385262",
     "status": "completed"
    },
    "tags": []
   },
   "outputs": [
    {
     "name": "stdout",
     "output_type": "stream",
     "text": [
      "🧠 Residual-Boosted Stack RMSE: 12855.45\n"
     ]
    }
   ],
   "source": [
    "from sklearn.ensemble import GradientBoostingRegressor\n",
    "from sklearn.metrics import mean_squared_error\n",
    "import numpy as np\n",
    "\n",
    "# === Step 1: Get predictions and residuals on training set\n",
    "stacked_model.fit(X_train, y_train)\n",
    "y_pred_train_stack = stacked_model.predict(X_train)\n",
    "train_residuals = y_train - y_pred_train_stack  # log-scale residuals\n",
    "\n",
    "# === Step 2: Train correction model to learn residuals\n",
    "residual_model = GradientBoostingRegressor(n_estimators=150, learning_rate=0.05, max_depth=3, random_state=42)\n",
    "residual_model.fit(X_train, train_residuals)\n",
    "\n",
    "# === Step 3: Predict corrected values on test set\n",
    "y_pred_test_stack = stacked_model.predict(X_test)\n",
    "y_pred_test_resid = residual_model.predict(X_test)\n",
    "y_pred_corrected = y_pred_test_stack + y_pred_test_resid  # still log-scale\n",
    "\n",
    "# === Step 4: Evaluate corrected predictions\n",
    "rmse_corrected = mean_squared_error(\n",
    "    np.expm1(y_test),\n",
    "    np.expm1(y_pred_corrected),\n",
    "    squared=False\n",
    ")\n",
    "\n",
    "print(f\"🧠 Residual-Boosted Stack RMSE: {rmse_corrected:.2f}\")\n"
   ]
  },
  {
   "cell_type": "code",
   "execution_count": 23,
   "id": "e2297443",
   "metadata": {
    "execution": {
     "iopub.execute_input": "2025-06-23T13:01:17.002737Z",
     "iopub.status.busy": "2025-06-23T13:01:17.002277Z",
     "iopub.status.idle": "2025-06-23T13:01:17.007849Z",
     "shell.execute_reply": "2025-06-23T13:01:17.007075Z"
    },
    "papermill": {
     "duration": 0.019562,
     "end_time": "2025-06-23T13:01:17.009006",
     "exception": false,
     "start_time": "2025-06-23T13:01:16.989444",
     "status": "completed"
    },
    "tags": []
   },
   "outputs": [
    {
     "name": "stdout",
     "output_type": "stream",
     "text": [
      "📏 RMSE in log(SalePrice) units: 0.04704\n"
     ]
    }
   ],
   "source": [
    "from sklearn.metrics import mean_squared_error\n",
    "\n",
    "# Log-scale RMSE\n",
    "rmse_logscale = mean_squared_error(y_test, y_pred_stack, squared=False)\n",
    "print(f\"📏 RMSE in log(SalePrice) units: {rmse_logscale:.5f}\")\n"
   ]
  }
 ],
 "metadata": {
  "kaggle": {
   "accelerator": "gpu",
   "dataSources": [
    {
     "datasetId": 51153,
     "sourceId": 95503,
     "sourceType": "datasetVersion"
    },
    {
     "datasetId": 7712779,
     "sourceId": 12240794,
     "sourceType": "datasetVersion"
    },
    {
     "datasetId": 7717846,
     "sourceId": 12248732,
     "sourceType": "datasetVersion"
    }
   ],
   "dockerImageVersionId": 31040,
   "isGpuEnabled": true,
   "isInternetEnabled": true,
   "language": "python",
   "sourceType": "notebook"
  },
  "kernelspec": {
   "display_name": "Python 3",
   "language": "python",
   "name": "python3"
  },
  "language_info": {
   "codemirror_mode": {
    "name": "ipython",
    "version": 3
   },
   "file_extension": ".py",
   "mimetype": "text/x-python",
   "name": "python",
   "nbconvert_exporter": "python",
   "pygments_lexer": "ipython3",
   "version": "3.11.11"
  },
  "papermill": {
   "default_parameters": {},
   "duration": 58.770045,
   "end_time": "2025-06-23T13:01:17.835108",
   "environment_variables": {},
   "exception": null,
   "input_path": "__notebook__.ipynb",
   "output_path": "__notebook__.ipynb",
   "parameters": {},
   "start_time": "2025-06-23T13:00:19.065063",
   "version": "2.6.0"
  }
 },
 "nbformat": 4,
 "nbformat_minor": 5
}
